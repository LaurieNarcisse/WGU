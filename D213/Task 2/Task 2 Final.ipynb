{
 "cells": [
  {
   "cell_type": "code",
   "execution_count": 1,
   "id": "9152a146-da54-4853-967d-ec1a249a5437",
   "metadata": {
    "tags": []
   },
   "outputs": [],
   "source": [
    "#pip install textblob"
   ]
  },
  {
   "cell_type": "code",
   "execution_count": 2,
   "id": "11fb12e2-2156-46f7-8637-1f8d7dd8891d",
   "metadata": {
    "tags": []
   },
   "outputs": [],
   "source": [
    "#pip install RISE"
   ]
  },
  {
   "cell_type": "code",
   "execution_count": 3,
   "id": "a8c5697a-8c83-41a0-a9f4-2a2181d8e286",
   "metadata": {},
   "outputs": [
    {
     "name": "stdout",
     "output_type": "stream",
     "text": [
      "WARNING:tensorflow:From C:\\Users\\narcissel\\AppData\\Local\\anaconda3\\Lib\\site-packages\\keras\\src\\losses.py:2976: The name tf.losses.sparse_softmax_cross_entropy is deprecated. Please use tf.compat.v1.losses.sparse_softmax_cross_entropy instead.\n",
      "\n"
     ]
    },
    {
     "name": "stderr",
     "output_type": "stream",
     "text": [
      "[nltk_data] Downloading package punkt to\n",
      "[nltk_data]     C:\\Users\\narcissel\\AppData\\Roaming\\nltk_data...\n",
      "[nltk_data]   Package punkt is already up-to-date!\n",
      "[nltk_data] Downloading package stopwords to\n",
      "[nltk_data]     C:\\Users\\narcissel\\AppData\\Roaming\\nltk_data...\n",
      "[nltk_data]   Package stopwords is already up-to-date!\n"
     ]
    }
   ],
   "source": [
    "# Ignore warnings\n",
    "import warnings\n",
    "warnings.filterwarnings('ignore')\n",
    "\n",
    "# Standard libraries\n",
    "import numpy as np\n",
    "import pandas as pd\n",
    "from pandas import Series, DataFrame\n",
    "\n",
    "# Visualization packages\n",
    "import matplotlib.pyplot as plt\n",
    "import seaborn as sns\n",
    "from matplotlib.axes._axes import _log as matplotlib_axes_logger\n",
    "matplotlib_axes_logger.setLevel('ERROR')\n",
    "\n",
    "# TensorFlow\n",
    "import tensorflow as tf\n",
    "from tensorflow.keras.preprocessing.text import Tokenizer\n",
    "from tensorflow.keras.preprocessing.sequence import pad_sequences\n",
    "from keras import callbacks\n",
    "from tensorflow import keras\n",
    "\n",
    "# Parser\n",
    "from dateutil.parser import parse\n",
    "\n",
    "# Spelling correction\n",
    "import textblob\n",
    "\n",
    "# Reduce\n",
    "from functools import reduce\n",
    "\n",
    "# Bag count vectorizer\n",
    "from sklearn.feature_extraction.text import CountVectorizer\n",
    "\n",
    "# Tokenization\n",
    "import nltk\n",
    "from nltk import word_tokenize\n",
    "nltk.download('punkt')\n",
    "\n",
    "# NLTK stopwords\n",
    "nltk.download('stopwords')\n",
    "from nltk.corpus import stopwords\n",
    "\n",
    "# EarlyStopping\n",
    "from keras.callbacks import ModelCheckpoint, EarlyStopping\n"
   ]
  },
  {
   "cell_type": "code",
   "execution_count": 4,
   "id": "8e0f980a-a8fb-47ba-ae06-939c437475bf",
   "metadata": {},
   "outputs": [],
   "source": [
    "# lets load data set into Pandas data frame\n",
    "amazon_path = 'amazon_cells_labelled.txt'\n",
    "amazon_df_original = pd.read_csv(amazon_path, names = ['review', 'sentiments'], sep = '\\t')\n",
    "\n",
    "imdb_path = 'imdb_labelled.txt'\n",
    "imdb_df_original = pd.read_csv(imdb_path, names = ['review', 'sentiments'], sep = '\\t')\n",
    "\n",
    "yelp_path = 'yelp_labelled.txt'\n",
    "yelp_df_original = pd.read_csv(yelp_path, names = ['review', 'sentiments'], sep = '\\t')"
   ]
  },
  {
   "cell_type": "code",
   "execution_count": 5,
   "id": "bccc2364-b6e5-4848-98d1-8bb2782901aa",
   "metadata": {},
   "outputs": [],
   "source": [
    "# lets display data frame\n",
    "amazon_df = amazon_df_original.copy()\n",
    "imdb_df = imdb_df_original.copy()\n",
    "yelp_df = yelp_df_original.copy()"
   ]
  },
  {
   "cell_type": "code",
   "execution_count": 6,
   "id": "a437ef84-6344-40f9-b7e9-03d70bdad002",
   "metadata": {},
   "outputs": [
    {
     "name": "stdout",
     "output_type": "stream",
     "text": [
      "Amazon:                                                 review  sentiments\n",
      "0   So there is no way for me to plug it in here i...           0\n",
      "1                         Good case, Excellent value.           1\n",
      "2                              Great for the jawbone.           1\n",
      "3   Tied to charger for conversations lasting more...           0\n",
      "4                                   The mic is great.           1\n",
      "5   I have to jiggle the plug to get it to line up...           0\n",
      "6   If you have several dozen or several hundred c...           0\n",
      "7         If you are Razr owner...you must have this!           1\n",
      "8                 Needless to say, I wasted my money.           0\n",
      "9                    What a waste of money and time!.           0\n",
      "10                    And the sound quality is great.           1\n",
      "11  He was very impressed when going from the orig...           1\n",
      "12  If the two were seperated by a mere 5+ ft I st...           0\n",
      "13                           Very good quality though           1\n",
      "14  The design is very odd, as the ear \"clip\" is n...           0\n",
      "IMDB:                                                 review  sentiments\n",
      "0   A very, very, very slow-moving, aimless movie ...           0\n",
      "1   Not sure who was more lost - the flat characte...           0\n",
      "2   Attempting artiness with black & white and cle...           0\n",
      "3        Very little music or anything to speak of.             0\n",
      "4   The best scene in the movie was when Gerardo i...           1\n",
      "5   The rest of the movie lacks art, charm, meanin...           0\n",
      "6                                 Wasted two hours.             0\n",
      "7   Saw the movie today and thought it was a good ...           1\n",
      "8                                A bit predictable.             0\n",
      "9   Loved the casting of Jimmy Buffet as the scien...           1\n",
      "10               And those baby owls were adorable.             1\n",
      "11  The movie showed a lot of Florida at it's best...           1\n",
      "12  The Songs Were The Best And The Muppets Were S...           1\n",
      "13                                  It Was So Cool.             1\n",
      "14  This is a very \"right on case\" movie that deli...           1\n",
      "Yelp:                                                 review  sentiments\n",
      "0                            Wow... Loved this place.           1\n",
      "1                                  Crust is not good.           0\n",
      "2           Not tasty and the texture was just nasty.           0\n",
      "3   Stopped by during the late May bank holiday of...           1\n",
      "4   The selection on the menu was great and so wer...           1\n",
      "5      Now I am getting angry and I want my damn pho.           0\n",
      "6               Honeslty it didn't taste THAT fresh.)           0\n",
      "7   The potatoes were like rubber and you could te...           0\n",
      "8                           The fries were great too.           1\n",
      "9                                      A great touch.           1\n",
      "10                           Service was very prompt.           1\n",
      "11                                 Would not go back.           0\n",
      "12  The cashier had no care what so ever on what I...           0\n",
      "13  I tried the Cape Cod ravoli, chicken,with cran...           1\n",
      "14  I was disgusted because I was pretty sure that...           0\n"
     ]
    }
   ],
   "source": [
    "# lets review data\n",
    "print('Amazon: ', amazon_df.head(15))\n",
    "print('IMDB: ', imdb_df.head(15))\n",
    "print('Yelp: ', yelp_df.head(15))"
   ]
  },
  {
   "cell_type": "code",
   "execution_count": 7,
   "id": "3d2395a1-fd76-40b1-92bd-f49e384e4095",
   "metadata": {},
   "outputs": [
    {
     "name": "stdout",
     "output_type": "stream",
     "text": [
      "Amazon:  (1000, 2)\n",
      "IMDB:  (748, 2)\n",
      "Yelp:  (1000, 2)\n"
     ]
    }
   ],
   "source": [
    "# lets evaluate the data structure to understand input data better\n",
    "# lets check dataset size\n",
    "print('Amazon: ', amazon_df.shape)\n",
    "print('IMDB: ', imdb_df.shape)\n",
    "print('Yelp: ', yelp_df.shape)"
   ]
  },
  {
   "cell_type": "code",
   "execution_count": 8,
   "id": "87904b79-95a1-413e-b68f-eb2ee34beb3c",
   "metadata": {
    "tags": []
   },
   "outputs": [
    {
     "data": {
      "text/plain": [
       "<bound method DataFrame.info of                                                 review  sentiments\n",
       "0    So there is no way for me to plug it in here i...           0\n",
       "1                          Good case, Excellent value.           1\n",
       "2                               Great for the jawbone.           1\n",
       "3    Tied to charger for conversations lasting more...           0\n",
       "4                                    The mic is great.           1\n",
       "..                                                 ...         ...\n",
       "995  The screen does get smudged easily because it ...           0\n",
       "996  What a piece of junk.. I lose more calls on th...           0\n",
       "997                       Item Does Not Match Picture.           0\n",
       "998  The only thing that disappoint me is the infra...           0\n",
       "999  You can not answer calls with the unit, never ...           0\n",
       "\n",
       "[1000 rows x 2 columns]>"
      ]
     },
     "execution_count": 8,
     "metadata": {},
     "output_type": "execute_result"
    }
   ],
   "source": [
    "# lets review individual DataFrames info - Amazon\n",
    "amazon_df.info"
   ]
  },
  {
   "cell_type": "code",
   "execution_count": 9,
   "id": "09a442a0-b466-4117-a973-85fcad5fa9c0",
   "metadata": {},
   "outputs": [
    {
     "name": "stdout",
     "output_type": "stream",
     "text": [
      "IMDB:  (748, 2)\n"
     ]
    },
    {
     "data": {
      "text/plain": [
       "<bound method DataFrame.info of                                                 review  sentiments\n",
       "0    A very, very, very slow-moving, aimless movie ...           0\n",
       "1    Not sure who was more lost - the flat characte...           0\n",
       "2    Attempting artiness with black & white and cle...           0\n",
       "3         Very little music or anything to speak of.             0\n",
       "4    The best scene in the movie was when Gerardo i...           1\n",
       "..                                                 ...         ...\n",
       "743  I just got bored watching Jessice Lange take h...           0\n",
       "744  Unfortunately, any virtue in this film's produ...           0\n",
       "745                   In a word, it is embarrassing.             0\n",
       "746                               Exceptionally bad!             0\n",
       "747  All in all its an insult to one's intelligence...           0\n",
       "\n",
       "[748 rows x 2 columns]>"
      ]
     },
     "execution_count": 9,
     "metadata": {},
     "output_type": "execute_result"
    }
   ],
   "source": [
    "# lets review individual DataFrames info - IMDB\n",
    "print('IMDB: ', imdb_df.shape)\n",
    "imdb_df.info"
   ]
  },
  {
   "cell_type": "code",
   "execution_count": 10,
   "id": "4858e6ac-41f1-4b4e-af75-62a3ff5bae9c",
   "metadata": {},
   "outputs": [
    {
     "name": "stdout",
     "output_type": "stream",
     "text": [
      "Yelp:  (1000, 2)\n"
     ]
    },
    {
     "data": {
      "text/plain": [
       "<bound method DataFrame.info of                                                 review  sentiments\n",
       "0                             Wow... Loved this place.           1\n",
       "1                                   Crust is not good.           0\n",
       "2            Not tasty and the texture was just nasty.           0\n",
       "3    Stopped by during the late May bank holiday of...           1\n",
       "4    The selection on the menu was great and so wer...           1\n",
       "..                                                 ...         ...\n",
       "995  I think food should have flavor and texture an...           0\n",
       "996                           Appetite instantly gone.           0\n",
       "997  Overall I was not impressed and would not go b...           0\n",
       "998  The whole experience was underwhelming, and I ...           0\n",
       "999  Then, as if I hadn't wasted enough of my life ...           0\n",
       "\n",
       "[1000 rows x 2 columns]>"
      ]
     },
     "execution_count": 10,
     "metadata": {},
     "output_type": "execute_result"
    }
   ],
   "source": [
    "# lets review individual DataFrames info - Yelp\n",
    "print('Yelp: ', yelp_df.shape)\n",
    "yelp_df.info"
   ]
  },
  {
   "cell_type": "code",
   "execution_count": 11,
   "id": "607553a2-29b9-4f3c-b365-abcd83be1491",
   "metadata": {},
   "outputs": [
    {
     "data": {
      "text/html": [
       "<div>\n",
       "<style scoped>\n",
       "    .dataframe tbody tr th:only-of-type {\n",
       "        vertical-align: middle;\n",
       "    }\n",
       "\n",
       "    .dataframe tbody tr th {\n",
       "        vertical-align: top;\n",
       "    }\n",
       "\n",
       "    .dataframe thead th {\n",
       "        text-align: right;\n",
       "    }\n",
       "</style>\n",
       "<table border=\"1\" class=\"dataframe\">\n",
       "  <thead>\n",
       "    <tr style=\"text-align: right;\">\n",
       "      <th></th>\n",
       "      <th>review</th>\n",
       "      <th>sentiments</th>\n",
       "    </tr>\n",
       "  </thead>\n",
       "  <tbody>\n",
       "    <tr>\n",
       "      <th>0</th>\n",
       "      <td>So there is no way for me to plug it in here i...</td>\n",
       "      <td>0</td>\n",
       "    </tr>\n",
       "    <tr>\n",
       "      <th>1</th>\n",
       "      <td>Good case, Excellent value.</td>\n",
       "      <td>1</td>\n",
       "    </tr>\n",
       "    <tr>\n",
       "      <th>2</th>\n",
       "      <td>Great for the jawbone.</td>\n",
       "      <td>1</td>\n",
       "    </tr>\n",
       "    <tr>\n",
       "      <th>3</th>\n",
       "      <td>Tied to charger for conversations lasting more...</td>\n",
       "      <td>0</td>\n",
       "    </tr>\n",
       "    <tr>\n",
       "      <th>4</th>\n",
       "      <td>The mic is great.</td>\n",
       "      <td>1</td>\n",
       "    </tr>\n",
       "    <tr>\n",
       "      <th>...</th>\n",
       "      <td>...</td>\n",
       "      <td>...</td>\n",
       "    </tr>\n",
       "    <tr>\n",
       "      <th>2743</th>\n",
       "      <td>I think food should have flavor and texture an...</td>\n",
       "      <td>0</td>\n",
       "    </tr>\n",
       "    <tr>\n",
       "      <th>2744</th>\n",
       "      <td>Appetite instantly gone.</td>\n",
       "      <td>0</td>\n",
       "    </tr>\n",
       "    <tr>\n",
       "      <th>2745</th>\n",
       "      <td>Overall I was not impressed and would not go b...</td>\n",
       "      <td>0</td>\n",
       "    </tr>\n",
       "    <tr>\n",
       "      <th>2746</th>\n",
       "      <td>The whole experience was underwhelming, and I ...</td>\n",
       "      <td>0</td>\n",
       "    </tr>\n",
       "    <tr>\n",
       "      <th>2747</th>\n",
       "      <td>Then, as if I hadn't wasted enough of my life ...</td>\n",
       "      <td>0</td>\n",
       "    </tr>\n",
       "  </tbody>\n",
       "</table>\n",
       "<p>2748 rows × 2 columns</p>\n",
       "</div>"
      ],
      "text/plain": [
       "                                                 review  sentiments\n",
       "0     So there is no way for me to plug it in here i...           0\n",
       "1                           Good case, Excellent value.           1\n",
       "2                                Great for the jawbone.           1\n",
       "3     Tied to charger for conversations lasting more...           0\n",
       "4                                     The mic is great.           1\n",
       "...                                                 ...         ...\n",
       "2743  I think food should have flavor and texture an...           0\n",
       "2744                           Appetite instantly gone.           0\n",
       "2745  Overall I was not impressed and would not go b...           0\n",
       "2746  The whole experience was underwhelming, and I ...           0\n",
       "2747  Then, as if I hadn't wasted enough of my life ...           0\n",
       "\n",
       "[2748 rows x 2 columns]"
      ]
     },
     "execution_count": 11,
     "metadata": {},
     "output_type": "execute_result"
    }
   ],
   "source": [
    "# lets combine the three review labeled files\n",
    "# lets check the list of the combine data frame\n",
    "new_dataframes = [amazon_df, imdb_df, yelp_df]\n",
    "\n",
    "# lets import reduce\n",
    "from functools import reduce\n",
    "\n",
    "# lets combine the three DataFrames into one\n",
    "combine_df = reduce(lambda left,right: pd.merge(left,right, on = ['review', 'sentiments'], how = 'outer'), new_dataframes)\n",
    "\n",
    "# lets check the combined data frames\n",
    "combine_df"
   ]
  },
  {
   "cell_type": "code",
   "execution_count": 12,
   "id": "977fa097-ff81-4eed-a3f1-850cc03cc0ef",
   "metadata": {},
   "outputs": [
    {
     "name": "stdout",
     "output_type": "stream",
     "text": [
      "review        0\n",
      "sentiments    0\n",
      "dtype: int64\n"
     ]
    }
   ],
   "source": [
    "# lets Re-validate column, null values, and find missing values.\n",
    "# lets check null values\n",
    "df = combine_df\n",
    "data_nulls = df.isnull().sum()\n",
    "print(data_nulls)\n",
    "\n",
    "# lets remove our nulls\n",
    "#df = df.dropna(subset=['review'])"
   ]
  },
  {
   "cell_type": "code",
   "execution_count": 13,
   "id": "b8353f14-2bdf-42ce-a511-00c669ff2aac",
   "metadata": {},
   "outputs": [
    {
     "name": "stdout",
     "output_type": "stream",
     "text": [
      "There are no missing values left\n"
     ]
    }
   ],
   "source": [
    "# lets check missing data and its size\n",
    "def missing_cols(combine_df):\n",
    "    '''prints out columns with its amount of missing values'''\n",
    "    total = 0\n",
    "    for col in combine_df.columns:\n",
    "        missing_vals = combine_df[col].isnull().sum()\n",
    "        total += missing_vals\n",
    "        if missing_vals != 0:\n",
    "            print(f\"{col} => {combine_df[col].isnull().sum()}\")\n",
    "    \n",
    "    if total == 0:\n",
    "        print(\"There are no missing values left\")\n",
    "            \n",
    "missing_cols(combine_df)"
   ]
  },
  {
   "cell_type": "code",
   "execution_count": 14,
   "id": "b9d0efab-c85d-4c67-894c-739e4a8d44d9",
   "metadata": {},
   "outputs": [
    {
     "data": {
      "text/plain": [
       "<bound method DataFrame.info of                                                  review  sentiments\n",
       "0     So there is no way for me to plug it in here i...           0\n",
       "1                           Good case, Excellent value.           1\n",
       "2                                Great for the jawbone.           1\n",
       "3     Tied to charger for conversations lasting more...           0\n",
       "4                                     The mic is great.           1\n",
       "...                                                 ...         ...\n",
       "2743  I think food should have flavor and texture an...           0\n",
       "2744                           Appetite instantly gone.           0\n",
       "2745  Overall I was not impressed and would not go b...           0\n",
       "2746  The whole experience was underwhelming, and I ...           0\n",
       "2747  Then, as if I hadn't wasted enough of my life ...           0\n",
       "\n",
       "[2748 rows x 2 columns]>"
      ]
     },
     "execution_count": 14,
     "metadata": {},
     "output_type": "execute_result"
    }
   ],
   "source": [
    "# lets check combined data frame info\n",
    "combine_df.info"
   ]
  },
  {
   "cell_type": "code",
   "execution_count": 15,
   "id": "9361515d-3609-4bec-9bfb-4bc930a169e5",
   "metadata": {},
   "outputs": [
    {
     "data": {
      "text/plain": [
       "Index(['review', 'sentiments'], dtype='object')"
      ]
     },
     "execution_count": 15,
     "metadata": {},
     "output_type": "execute_result"
    }
   ],
   "source": [
    "# lets check combined data frame columns\n",
    "combine_df.columns"
   ]
  },
  {
   "cell_type": "code",
   "execution_count": 16,
   "id": "80853ad1-1153-44fe-b364-56ea5c4f260b",
   "metadata": {},
   "outputs": [
    {
     "data": {
      "text/plain": [
       "pandas.core.frame.DataFrame"
      ]
     },
     "execution_count": 16,
     "metadata": {},
     "output_type": "execute_result"
    }
   ],
   "source": [
    "# lets check combined data frame type\n",
    "type(combine_df)"
   ]
  },
  {
   "cell_type": "code",
   "execution_count": 17,
   "id": "3af445a5-7489-4dba-9455-e04c3499c81a",
   "metadata": {},
   "outputs": [
    {
     "data": {
      "text/plain": [
       "review        object\n",
       "sentiments     int64\n",
       "dtype: object"
      ]
     },
     "execution_count": 17,
     "metadata": {},
     "output_type": "execute_result"
    }
   ],
   "source": [
    "# lets check data types of features\n",
    "combine_df.dtypes"
   ]
  },
  {
   "cell_type": "code",
   "execution_count": 18,
   "id": "81eb52e9-9637-4de4-a098-490a7004c10b",
   "metadata": {},
   "outputs": [
    {
     "data": {
      "text/plain": [
       "array([0, 1], dtype=int64)"
      ]
     },
     "execution_count": 18,
     "metadata": {},
     "output_type": "execute_result"
    }
   ],
   "source": [
    "# lets check binary rating (0 = negative, 1 = positive)\n",
    "combine_df.sentiments.unique()"
   ]
  },
  {
   "cell_type": "code",
   "execution_count": 19,
   "id": "8751811c-56e3-482a-a29f-d81a1196091d",
   "metadata": {},
   "outputs": [
    {
     "name": "stdout",
     "output_type": "stream",
     "text": [
      "Combine data - Count:\n",
      "  sentiments\n",
      "1    1386\n",
      "0    1362\n",
      "Name: count, dtype: int64\n",
      "\n",
      " Combine data - Percentage:\n",
      " sentiments\n",
      "1    0.504367\n",
      "0    0.495633\n",
      "Name: count, dtype: float64\n"
     ]
    }
   ],
   "source": [
    "# lets check positive and negative reviews from combined DataFrame\n",
    "print('Combine data - Count:\\n ', combine_df.sentiments.value_counts())\n",
    "print('\\n Combine data - Percentage:\\n', combine_df.sentiments.value_counts() / len(combine_df))"
   ]
  },
  {
   "cell_type": "code",
   "execution_count": 20,
   "id": "f89cd736-d6fd-4724-ba9f-e2b111339653",
   "metadata": {},
   "outputs": [
    {
     "data": {
      "text/plain": [
       "<Axes: xlabel='sentiments'>"
      ]
     },
     "execution_count": 20,
     "metadata": {},
     "output_type": "execute_result"
    },
    {
     "data": {
      "image/png": "[encoded data removed]",
      "text/plain": [
       "<Figure size 640x480 with 1 Axes>"
      ]
     },
     "metadata": {},
     "output_type": "display_data"
    }
   ],
   "source": [
    "# lets analyze distribution of the ratings - sentiments\n",
    "combine_df['sentiments'].value_counts().plot(kind='bar')"
   ]
  },
  {
   "cell_type": "code",
   "execution_count": 21,
   "id": "4aeb5b54-e935-45bc-90af-ba67da16942a",
   "metadata": {},
   "outputs": [
    {
     "data": {
      "text/html": [
       "<div>\n",
       "<style scoped>\n",
       "    .dataframe tbody tr th:only-of-type {\n",
       "        vertical-align: middle;\n",
       "    }\n",
       "\n",
       "    .dataframe tbody tr th {\n",
       "        vertical-align: top;\n",
       "    }\n",
       "\n",
       "    .dataframe thead th {\n",
       "        text-align: right;\n",
       "    }\n",
       "</style>\n",
       "<table border=\"1\" class=\"dataframe\">\n",
       "  <thead>\n",
       "    <tr style=\"text-align: right;\">\n",
       "      <th></th>\n",
       "      <th>sentiments</th>\n",
       "    </tr>\n",
       "  </thead>\n",
       "  <tbody>\n",
       "    <tr>\n",
       "      <th>count</th>\n",
       "      <td>2748.000000</td>\n",
       "    </tr>\n",
       "    <tr>\n",
       "      <th>mean</th>\n",
       "      <td>0.504367</td>\n",
       "    </tr>\n",
       "    <tr>\n",
       "      <th>std</th>\n",
       "      <td>0.500072</td>\n",
       "    </tr>\n",
       "    <tr>\n",
       "      <th>min</th>\n",
       "      <td>0.000000</td>\n",
       "    </tr>\n",
       "    <tr>\n",
       "      <th>25%</th>\n",
       "      <td>0.000000</td>\n",
       "    </tr>\n",
       "    <tr>\n",
       "      <th>50%</th>\n",
       "      <td>1.000000</td>\n",
       "    </tr>\n",
       "    <tr>\n",
       "      <th>75%</th>\n",
       "      <td>1.000000</td>\n",
       "    </tr>\n",
       "    <tr>\n",
       "      <th>max</th>\n",
       "      <td>1.000000</td>\n",
       "    </tr>\n",
       "  </tbody>\n",
       "</table>\n",
       "</div>"
      ],
      "text/plain": [
       "        sentiments\n",
       "count  2748.000000\n",
       "mean      0.504367\n",
       "std       0.500072\n",
       "min       0.000000\n",
       "25%       0.000000\n",
       "50%       1.000000\n",
       "75%       1.000000\n",
       "max       1.000000"
      ]
     },
     "execution_count": 21,
     "metadata": {},
     "output_type": "execute_result"
    }
   ],
   "source": [
    "# lets describe dataset statistics\n",
    "combine_df.describe()"
   ]
  },
  {
   "cell_type": "code",
   "execution_count": 22,
   "id": "92c760ab-09b2-4a3d-b6ab-60554e4a34b3",
   "metadata": {},
   "outputs": [
    {
     "name": "stdout",
     "output_type": "stream",
     "text": [
      "The line contains :D emoji\n",
      "The line contains :D emoji\n",
      "The line contains :D emoji\n",
      "The line contains :D emoji\n"
     ]
    }
   ],
   "source": [
    "# lets check for emoji \"\":D\"\"\n",
    "for i in combine_df.review:\n",
    "    substring = \":)\"\n",
    "    if substring in i:\n",
    "        print(\"The line contains :D emoji\")"
   ]
  },
  {
   "cell_type": "code",
   "execution_count": 23,
   "id": "e73975b9-7c51-4faf-bfb6-e0df663ef4aa",
   "metadata": {},
   "outputs": [
    {
     "name": "stdout",
     "output_type": "stream",
     "text": [
      "False\n",
      "False\n",
      "False\n",
      "False\n",
      "False\n",
      "False\n",
      "False\n",
      "False\n",
      "False\n",
      "False\n",
      "False\n",
      "False\n",
      "False\n",
      "False\n",
      "False\n",
      "False\n",
      "False\n"
     ]
    }
   ],
   "source": [
    "# lets check for unusual characters\n",
    "def isEnglish(review):\n",
    "    return review.isascii()\n",
    "for i in combine_df.review:\n",
    "    if isEnglish(i) != True:\n",
    "        print(isEnglish(i))"
   ]
  },
  {
   "cell_type": "code",
   "execution_count": 24,
   "id": "0dca3fde-67d7-4ff9-aae1-f7876861d6ef",
   "metadata": {},
   "outputs": [
    {
     "data": {
      "text/plain": [
       "0        82\n",
       "1        27\n",
       "2        22\n",
       "3        79\n",
       "4        17\n",
       "       ... \n",
       "2743     66\n",
       "2744     24\n",
       "2745     50\n",
       "2746     91\n",
       "2747    134\n",
       "Name: review, Length: 2748, dtype: int64"
      ]
     },
     "execution_count": 24,
     "metadata": {},
     "output_type": "execute_result"
    }
   ],
   "source": [
    "# lets check vocabulary size, proposed word embedding length\n",
    "# lets find lengths of reviews\n",
    "reviews_length = combine_df.review.str.len()\n",
    "reviews_length"
   ]
  },
  {
   "cell_type": "code",
   "execution_count": 25,
   "id": "86f5398a-5972-48be-b43a-0d2a4f8d691d",
   "metadata": {},
   "outputs": [
    {
     "name": "stdout",
     "output_type": "stream",
     "text": [
      "There are  7450  unique words in the review column of combine dataframe.\n"
     ]
    }
   ],
   "source": [
    "#lets find estimation of vocabulary size; how many unique words are there within the DataFrame\n",
    "unique_word = set(combine_df['review'].str.replace('[^a-zA-Z]', '').str.lower().str.split(' ').sum())\n",
    "\n",
    "# lets check the length of unique words\n",
    "print('There are ', str(len(unique_word)), ' unique words in the review column of combine dataframe.')"
   ]
  },
  {
   "cell_type": "code",
   "execution_count": 26,
   "id": "e90b1156-a4a8-4145-bd5d-b676c3a76bf5",
   "metadata": {},
   "outputs": [
    {
     "name": "stdout",
     "output_type": "stream",
     "text": [
      "The shortest review is  7  words\n"
     ]
    }
   ],
   "source": [
    "# lets check the length of the shortest review\n",
    "print('The shortest review is ', str(min(reviews_length)),' words')"
   ]
  },
  {
   "cell_type": "code",
   "execution_count": 27,
   "id": "902afe5e-cfde-4177-a43c-b1783a1242fc",
   "metadata": {},
   "outputs": [
    {
     "name": "stdout",
     "output_type": "stream",
     "text": [
      "The longest review is  7944  words\n"
     ]
    }
   ],
   "source": [
    "# lets check the length of the longest review\n",
    "print('The longest review is ', str(max(reviews_length)),' words')"
   ]
  },
  {
   "cell_type": "code",
   "execution_count": 28,
   "id": "2ae6d59a-c121-4952-8d1b-ecb738b88bd9",
   "metadata": {},
   "outputs": [
    {
     "data": {
      "text/plain": [
       "196560"
      ]
     },
     "execution_count": 28,
     "metadata": {},
     "output_type": "execute_result"
    }
   ],
   "source": [
    "# lets check for the total length of all reviews\n",
    "sum(reviews_length)"
   ]
  },
  {
   "cell_type": "code",
   "execution_count": 29,
   "id": "01afa8fe-93ad-46dd-b3ea-b23a4d7fa46b",
   "metadata": {},
   "outputs": [],
   "source": [
    "# lets Tokenize words\n",
    "# lets Import appropriate tokenize function\n",
    "import nltk\n",
    "from nltk import word_tokenize"
   ]
  },
  {
   "cell_type": "code",
   "execution_count": 30,
   "id": "da2e6279-a897-47c9-8d25-8cc09547420f",
   "metadata": {},
   "outputs": [
    {
     "name": "stdout",
     "output_type": "stream",
     "text": [
      "Word Tokenization firs 10 reviews results:\n",
      "[['So', 'there', 'is', 'no', 'way', 'for', 'me', 'to', 'plug', 'it', 'in', 'here', 'in', 'the', 'US', 'unless', 'I', 'go', 'by', 'a', 'converter', '.'], ['Good', 'case', ',', 'Excellent', 'value', '.'], ['Great', 'for', 'the', 'jawbone', '.'], ['Tied', 'to', 'charger', 'for', 'conversations', 'lasting', 'more', 'than', '45', 'minutes.MAJOR', 'PROBLEMS', '!', '!'], ['The', 'mic', 'is', 'great', '.'], ['I', 'have', 'to', 'jiggle', 'the', 'plug', 'to', 'get', 'it', 'to', 'line', 'up', 'right', 'to', 'get', 'decent', 'volume', '.'], ['If', 'you', 'have', 'several', 'dozen', 'or', 'several', 'hundred', 'contacts', ',', 'then', 'imagine', 'the', 'fun', 'of', 'sending', 'each', 'of', 'them', 'one', 'by', 'one', '.'], ['If', 'you', 'are', 'Razr', 'owner', '...', 'you', 'must', 'have', 'this', '!'], ['Needless', 'to', 'say', ',', 'I', 'wasted', 'my', 'money', '.'], ['What', 'a', 'waste', 'of', 'money', 'and', 'time', '!', '.']]\n"
     ]
    }
   ],
   "source": [
    "# lets tokenize the text of the review\n",
    "word_tokens = [word_tokenize(review) for review in combine_df.review]\n",
    "\n",
    "# lets print first ten  reviews\n",
    "print('Word Tokenization firs 10 reviews results:')\n",
    "print(word_tokens[:10])"
   ]
  },
  {
   "cell_type": "code",
   "execution_count": 31,
   "id": "16ecd1c7-6d0e-45fc-ba05-107db49887ee",
   "metadata": {},
   "outputs": [
    {
     "data": {
      "text/plain": [
       "list"
      ]
     },
     "execution_count": 31,
     "metadata": {},
     "output_type": "execute_result"
    }
   ],
   "source": [
    "# lets check word_tokens type\n",
    "type(word_tokens)"
   ]
  },
  {
   "cell_type": "code",
   "execution_count": 32,
   "id": "9743335e-58e9-441b-ae60-c77056bc352f",
   "metadata": {},
   "outputs": [
    {
     "data": {
      "text/plain": [
       "'If you have several dozen or several hundred contacts, then imagine the fun of sending each of them one by one.'"
      ]
     },
     "execution_count": 32,
     "metadata": {},
     "output_type": "execute_result"
    }
   ],
   "source": [
    "# lets check sample review #6\n",
    "combine_df.review[6]"
   ]
  },
  {
   "cell_type": "code",
   "execution_count": 33,
   "id": "bff7a5b7-b028-4f9c-af1e-d743463f5d23",
   "metadata": {},
   "outputs": [
    {
     "data": {
      "text/html": [
       "<div>\n",
       "<style scoped>\n",
       "    .dataframe tbody tr th:only-of-type {\n",
       "        vertical-align: middle;\n",
       "    }\n",
       "\n",
       "    .dataframe tbody tr th {\n",
       "        vertical-align: top;\n",
       "    }\n",
       "\n",
       "    .dataframe thead th {\n",
       "        text-align: right;\n",
       "    }\n",
       "</style>\n",
       "<table border=\"1\" class=\"dataframe\">\n",
       "  <thead>\n",
       "    <tr style=\"text-align: right;\">\n",
       "      <th></th>\n",
       "      <th>review</th>\n",
       "      <th>sentiments</th>\n",
       "      <th>word_count</th>\n",
       "    </tr>\n",
       "  </thead>\n",
       "  <tbody>\n",
       "    <tr>\n",
       "      <th>0</th>\n",
       "      <td>So there is no way for me to plug it in here i...</td>\n",
       "      <td>0</td>\n",
       "      <td>21</td>\n",
       "    </tr>\n",
       "    <tr>\n",
       "      <th>1</th>\n",
       "      <td>Good case, Excellent value.</td>\n",
       "      <td>1</td>\n",
       "      <td>4</td>\n",
       "    </tr>\n",
       "    <tr>\n",
       "      <th>2</th>\n",
       "      <td>Great for the jawbone.</td>\n",
       "      <td>1</td>\n",
       "      <td>4</td>\n",
       "    </tr>\n",
       "    <tr>\n",
       "      <th>3</th>\n",
       "      <td>Tied to charger for conversations lasting more...</td>\n",
       "      <td>0</td>\n",
       "      <td>11</td>\n",
       "    </tr>\n",
       "    <tr>\n",
       "      <th>4</th>\n",
       "      <td>The mic is great.</td>\n",
       "      <td>1</td>\n",
       "      <td>4</td>\n",
       "    </tr>\n",
       "  </tbody>\n",
       "</table>\n",
       "</div>"
      ],
      "text/plain": [
       "                                              review  sentiments  word_count\n",
       "0  So there is no way for me to plug it in here i...           0          21\n",
       "1                        Good case, Excellent value.           1           4\n",
       "2                             Great for the jawbone.           1           4\n",
       "3  Tied to charger for conversations lasting more...           0          11\n",
       "4                                  The mic is great.           1           4"
      ]
     },
     "execution_count": 33,
     "metadata": {},
     "output_type": "execute_result"
    }
   ],
   "source": [
    "# lets count words in the reviews column\n",
    "combine_df['word_count'] = combine_df['review'].str.split().str.len()\n",
    "combine_df.head()"
   ]
  },
  {
   "cell_type": "code",
   "execution_count": 34,
   "id": "2f98328d-aa59-41be-931e-f47deb13af8f",
   "metadata": {},
   "outputs": [
    {
     "name": "stdout",
     "output_type": "stream",
     "text": [
      "The average of 13.006550218340612 word per customer review.\n"
     ]
    }
   ],
   "source": [
    "#lets measure the average word count in the reviews\n",
    "print('The average of ' + str(combine_df['word_count'].mean()) + ' word per customer review.' )"
   ]
  },
  {
   "cell_type": "code",
   "execution_count": 35,
   "id": "6f46f5ae-79af-4737-bcc9-a2f8a06564eb",
   "metadata": {},
   "outputs": [
    {
     "data": {
      "text/html": [
       "<div>\n",
       "<style scoped>\n",
       "    .dataframe tbody tr th:only-of-type {\n",
       "        vertical-align: middle;\n",
       "    }\n",
       "\n",
       "    .dataframe tbody tr th {\n",
       "        vertical-align: top;\n",
       "    }\n",
       "\n",
       "    .dataframe thead th {\n",
       "        text-align: right;\n",
       "    }\n",
       "</style>\n",
       "<table border=\"1\" class=\"dataframe\">\n",
       "  <thead>\n",
       "    <tr style=\"text-align: right;\">\n",
       "      <th></th>\n",
       "      <th>review</th>\n",
       "      <th>sentiments</th>\n",
       "      <th>word_count</th>\n",
       "      <th>tokens_count</th>\n",
       "    </tr>\n",
       "  </thead>\n",
       "  <tbody>\n",
       "    <tr>\n",
       "      <th>0</th>\n",
       "      <td>So there is no way for me to plug it in here i...</td>\n",
       "      <td>0</td>\n",
       "      <td>21</td>\n",
       "      <td>22</td>\n",
       "    </tr>\n",
       "    <tr>\n",
       "      <th>1</th>\n",
       "      <td>Good case, Excellent value.</td>\n",
       "      <td>1</td>\n",
       "      <td>4</td>\n",
       "      <td>6</td>\n",
       "    </tr>\n",
       "    <tr>\n",
       "      <th>2</th>\n",
       "      <td>Great for the jawbone.</td>\n",
       "      <td>1</td>\n",
       "      <td>4</td>\n",
       "      <td>5</td>\n",
       "    </tr>\n",
       "    <tr>\n",
       "      <th>3</th>\n",
       "      <td>Tied to charger for conversations lasting more...</td>\n",
       "      <td>0</td>\n",
       "      <td>11</td>\n",
       "      <td>13</td>\n",
       "    </tr>\n",
       "    <tr>\n",
       "      <th>4</th>\n",
       "      <td>The mic is great.</td>\n",
       "      <td>1</td>\n",
       "      <td>4</td>\n",
       "      <td>5</td>\n",
       "    </tr>\n",
       "  </tbody>\n",
       "</table>\n",
       "</div>"
      ],
      "text/plain": [
       "                                              review  sentiments  word_count  \\\n",
       "0  So there is no way for me to plug it in here i...           0          21   \n",
       "1                        Good case, Excellent value.           1           4   \n",
       "2                             Great for the jawbone.           1           4   \n",
       "3  Tied to charger for conversations lasting more...           0          11   \n",
       "4                                  The mic is great.           1           4   \n",
       "\n",
       "   tokens_count  \n",
       "0            22  \n",
       "1             6  \n",
       "2             5  \n",
       "3            13  \n",
       "4             5  "
      ]
     },
     "execution_count": 35,
     "metadata": {},
     "output_type": "execute_result"
    }
   ],
   "source": [
    "# lets count how many tokens in each tokenized review\n",
    "tokens_lengh = []\n",
    "\n",
    "# lets iterate over the word_tokens list\n",
    "for i in range(len(word_tokens)):\n",
    "    tokens_lengh.append(len(word_tokens[i]))\n",
    "    \n",
    "# New 'tokens_count' feature for the length of each review\n",
    "combine_df['tokens_count'] = tokens_lengh\n",
    "\n",
    "# lets review\n",
    "combine_df.head()"
   ]
  },
  {
   "cell_type": "code",
   "execution_count": 36,
   "id": "b6c40579-8969-44f6-be62-5bdd750c08df",
   "metadata": {},
   "outputs": [],
   "source": [
    "# lets replace all capital with lowercase letters\n",
    "combine_df['clean_review'] = combine_df.review.apply(lambda x: \" \".join(x.lower() for x in x.split()))\n",
    "\n",
    "#combine_df['clean_review'] = combine_df['review'].str.lower()"
   ]
  },
  {
   "cell_type": "code",
   "execution_count": 37,
   "id": "cb359e0a-69bf-4163-9865-f6f108d588f2",
   "metadata": {},
   "outputs": [
    {
     "data": {
      "text/html": [
       "<div>\n",
       "<style scoped>\n",
       "    .dataframe tbody tr th:only-of-type {\n",
       "        vertical-align: middle;\n",
       "    }\n",
       "\n",
       "    .dataframe tbody tr th {\n",
       "        vertical-align: top;\n",
       "    }\n",
       "\n",
       "    .dataframe thead th {\n",
       "        text-align: right;\n",
       "    }\n",
       "</style>\n",
       "<table border=\"1\" class=\"dataframe\">\n",
       "  <thead>\n",
       "    <tr style=\"text-align: right;\">\n",
       "      <th></th>\n",
       "      <th>review</th>\n",
       "      <th>sentiments</th>\n",
       "      <th>word_count</th>\n",
       "      <th>tokens_count</th>\n",
       "      <th>clean_review</th>\n",
       "    </tr>\n",
       "  </thead>\n",
       "  <tbody>\n",
       "    <tr>\n",
       "      <th>0</th>\n",
       "      <td>So there is no way for me to plug it in here i...</td>\n",
       "      <td>0</td>\n",
       "      <td>21</td>\n",
       "      <td>22</td>\n",
       "      <td>so there is no way for me to plug it in here i...</td>\n",
       "    </tr>\n",
       "    <tr>\n",
       "      <th>1</th>\n",
       "      <td>Good case, Excellent value.</td>\n",
       "      <td>1</td>\n",
       "      <td>4</td>\n",
       "      <td>6</td>\n",
       "      <td>good case, excellent value.</td>\n",
       "    </tr>\n",
       "    <tr>\n",
       "      <th>2</th>\n",
       "      <td>Great for the jawbone.</td>\n",
       "      <td>1</td>\n",
       "      <td>4</td>\n",
       "      <td>5</td>\n",
       "      <td>great for the jawbone.</td>\n",
       "    </tr>\n",
       "    <tr>\n",
       "      <th>3</th>\n",
       "      <td>Tied to charger for conversations lasting more...</td>\n",
       "      <td>0</td>\n",
       "      <td>11</td>\n",
       "      <td>13</td>\n",
       "      <td>tied to charger for conversations lasting more...</td>\n",
       "    </tr>\n",
       "    <tr>\n",
       "      <th>4</th>\n",
       "      <td>The mic is great.</td>\n",
       "      <td>1</td>\n",
       "      <td>4</td>\n",
       "      <td>5</td>\n",
       "      <td>the mic is great.</td>\n",
       "    </tr>\n",
       "  </tbody>\n",
       "</table>\n",
       "</div>"
      ],
      "text/plain": [
       "                                              review  sentiments  word_count  \\\n",
       "0  So there is no way for me to plug it in here i...           0          21   \n",
       "1                        Good case, Excellent value.           1           4   \n",
       "2                             Great for the jawbone.           1           4   \n",
       "3  Tied to charger for conversations lasting more...           0          11   \n",
       "4                                  The mic is great.           1           4   \n",
       "\n",
       "   tokens_count                                       clean_review  \n",
       "0            22  so there is no way for me to plug it in here i...  \n",
       "1             6                        good case, excellent value.  \n",
       "2             5                             great for the jawbone.  \n",
       "3            13  tied to charger for conversations lasting more...  \n",
       "4             5                                  the mic is great.  "
      ]
     },
     "execution_count": 37,
     "metadata": {},
     "output_type": "execute_result"
    }
   ],
   "source": [
    "# lets remove all numbers from clean_review\n",
    "combine_df['clean_review'] = combine_df['clean_review'].str.replace('\\d+','')\n",
    "\n",
    "combine_df.head()"
   ]
  },
  {
   "cell_type": "code",
   "execution_count": 38,
   "id": "7d7eb877-719a-47b4-b4d1-9a19fa2dc6e5",
   "metadata": {},
   "outputs": [],
   "source": [
    "# lets select special characters\n",
    "unique_character = [\"*\",\"+\",\",\",\"-\",\".\",\"/\",\":\",\";\",\"<\",\n",
    " \"=\",\">\",\"?\",\"@\",\"!\",'\"',\"#\",\"%\",\"&\",\"'\",\"(\",\")\",\"[\",\"\\\\\",\"]\",\"^\",\"_\",\n",
    " \"`\",\"{\",\"|\",\"}\",\"~\",\"–\"]"
   ]
  },
  {
   "cell_type": "code",
   "execution_count": 39,
   "id": "b630fc18-facf-4f11-99e0-d255447b95c5",
   "metadata": {},
   "outputs": [
    {
     "data": {
      "text/html": [
       "<div>\n",
       "<style scoped>\n",
       "    .dataframe tbody tr th:only-of-type {\n",
       "        vertical-align: middle;\n",
       "    }\n",
       "\n",
       "    .dataframe tbody tr th {\n",
       "        vertical-align: top;\n",
       "    }\n",
       "\n",
       "    .dataframe thead th {\n",
       "        text-align: right;\n",
       "    }\n",
       "</style>\n",
       "<table border=\"1\" class=\"dataframe\">\n",
       "  <thead>\n",
       "    <tr style=\"text-align: right;\">\n",
       "      <th></th>\n",
       "      <th>review</th>\n",
       "      <th>sentiments</th>\n",
       "      <th>word_count</th>\n",
       "      <th>tokens_count</th>\n",
       "      <th>clean_review</th>\n",
       "    </tr>\n",
       "  </thead>\n",
       "  <tbody>\n",
       "    <tr>\n",
       "      <th>0</th>\n",
       "      <td>So there is no way for me to plug it in here i...</td>\n",
       "      <td>0</td>\n",
       "      <td>21</td>\n",
       "      <td>22</td>\n",
       "      <td>so there is no way for me to plug it in here i...</td>\n",
       "    </tr>\n",
       "    <tr>\n",
       "      <th>1</th>\n",
       "      <td>Good case, Excellent value.</td>\n",
       "      <td>1</td>\n",
       "      <td>4</td>\n",
       "      <td>6</td>\n",
       "      <td>good case  excellent value</td>\n",
       "    </tr>\n",
       "    <tr>\n",
       "      <th>2</th>\n",
       "      <td>Great for the jawbone.</td>\n",
       "      <td>1</td>\n",
       "      <td>4</td>\n",
       "      <td>5</td>\n",
       "      <td>great for the jawbone</td>\n",
       "    </tr>\n",
       "    <tr>\n",
       "      <th>3</th>\n",
       "      <td>Tied to charger for conversations lasting more...</td>\n",
       "      <td>0</td>\n",
       "      <td>11</td>\n",
       "      <td>13</td>\n",
       "      <td>tied to charger for conversations lasting more...</td>\n",
       "    </tr>\n",
       "    <tr>\n",
       "      <th>4</th>\n",
       "      <td>The mic is great.</td>\n",
       "      <td>1</td>\n",
       "      <td>4</td>\n",
       "      <td>5</td>\n",
       "      <td>the mic is great</td>\n",
       "    </tr>\n",
       "  </tbody>\n",
       "</table>\n",
       "</div>"
      ],
      "text/plain": [
       "                                              review  sentiments  word_count  \\\n",
       "0  So there is no way for me to plug it in here i...           0          21   \n",
       "1                        Good case, Excellent value.           1           4   \n",
       "2                             Great for the jawbone.           1           4   \n",
       "3  Tied to charger for conversations lasting more...           0          11   \n",
       "4                                  The mic is great.           1           4   \n",
       "\n",
       "   tokens_count                                       clean_review  \n",
       "0            22  so there is no way for me to plug it in here i...  \n",
       "1             6                        good case  excellent value   \n",
       "2             5                             great for the jawbone   \n",
       "3            13  tied to charger for conversations lasting more...  \n",
       "4             5                                  the mic is great   "
      ]
     },
     "execution_count": 39,
     "metadata": {},
     "output_type": "execute_result"
    }
   ],
   "source": [
    "import re\n",
    "# lets replace all special characters\n",
    "for char in unique_character:\n",
    "    combine_df['clean_review'] = combine_df['clean_review'].str.replace(re.escape(char), ' ', regex=True)\n",
    "\n",
    "# Print first few rows to check the result\n",
    "combine_df.head()\n"
   ]
  },
  {
   "cell_type": "code",
   "execution_count": 40,
   "id": "f1a20085-b68f-4803-9db4-4f6c7de7b182",
   "metadata": {},
   "outputs": [],
   "source": [
    "# lets replace all special characters\n",
    "#for char in unique_character:\n",
    " #combine_df['clean_review'] = combine_df['clean_review'].str.replace(char, ' ',regex=True)\n",
    "\n",
    "#lets remove Punctuation\n",
    "#combine_df['clean_review'] = combine_df['clean_review'].str.replace('[^\\w\\s]', '')\n",
    "\n",
    "#combine_df.head()"
   ]
  },
  {
   "cell_type": "code",
   "execution_count": 41,
   "id": "029f59bb-8e22-4a45-abd3-1efae0c1cb32",
   "metadata": {},
   "outputs": [
    {
     "data": {
      "text/html": [
       "<div>\n",
       "<style scoped>\n",
       "    .dataframe tbody tr th:only-of-type {\n",
       "        vertical-align: middle;\n",
       "    }\n",
       "\n",
       "    .dataframe tbody tr th {\n",
       "        vertical-align: top;\n",
       "    }\n",
       "\n",
       "    .dataframe thead th {\n",
       "        text-align: right;\n",
       "    }\n",
       "</style>\n",
       "<table border=\"1\" class=\"dataframe\">\n",
       "  <thead>\n",
       "    <tr style=\"text-align: right;\">\n",
       "      <th></th>\n",
       "      <th>review</th>\n",
       "      <th>sentiments</th>\n",
       "      <th>word_count</th>\n",
       "      <th>tokens_count</th>\n",
       "      <th>clean_review</th>\n",
       "    </tr>\n",
       "  </thead>\n",
       "  <tbody>\n",
       "    <tr>\n",
       "      <th>0</th>\n",
       "      <td>So there is no way for me to plug it in here i...</td>\n",
       "      <td>0</td>\n",
       "      <td>21</td>\n",
       "      <td>22</td>\n",
       "      <td>way plug us unless go converter</td>\n",
       "    </tr>\n",
       "    <tr>\n",
       "      <th>1</th>\n",
       "      <td>Good case, Excellent value.</td>\n",
       "      <td>1</td>\n",
       "      <td>4</td>\n",
       "      <td>6</td>\n",
       "      <td>good case excellent value</td>\n",
       "    </tr>\n",
       "    <tr>\n",
       "      <th>2</th>\n",
       "      <td>Great for the jawbone.</td>\n",
       "      <td>1</td>\n",
       "      <td>4</td>\n",
       "      <td>5</td>\n",
       "      <td>great jawbone</td>\n",
       "    </tr>\n",
       "    <tr>\n",
       "      <th>3</th>\n",
       "      <td>Tied to charger for conversations lasting more...</td>\n",
       "      <td>0</td>\n",
       "      <td>11</td>\n",
       "      <td>13</td>\n",
       "      <td>tied charger conversations lasting 45 minutes ...</td>\n",
       "    </tr>\n",
       "    <tr>\n",
       "      <th>4</th>\n",
       "      <td>The mic is great.</td>\n",
       "      <td>1</td>\n",
       "      <td>4</td>\n",
       "      <td>5</td>\n",
       "      <td>mic great</td>\n",
       "    </tr>\n",
       "    <tr>\n",
       "      <th>...</th>\n",
       "      <td>...</td>\n",
       "      <td>...</td>\n",
       "      <td>...</td>\n",
       "      <td>...</td>\n",
       "      <td>...</td>\n",
       "    </tr>\n",
       "    <tr>\n",
       "      <th>2743</th>\n",
       "      <td>I think food should have flavor and texture an...</td>\n",
       "      <td>0</td>\n",
       "      <td>12</td>\n",
       "      <td>13</td>\n",
       "      <td>think food flavor texture lacking</td>\n",
       "    </tr>\n",
       "    <tr>\n",
       "      <th>2744</th>\n",
       "      <td>Appetite instantly gone.</td>\n",
       "      <td>0</td>\n",
       "      <td>3</td>\n",
       "      <td>4</td>\n",
       "      <td>appetite instantly gone</td>\n",
       "    </tr>\n",
       "    <tr>\n",
       "      <th>2745</th>\n",
       "      <td>Overall I was not impressed and would not go b...</td>\n",
       "      <td>0</td>\n",
       "      <td>10</td>\n",
       "      <td>11</td>\n",
       "      <td>overall impressed would go back</td>\n",
       "    </tr>\n",
       "    <tr>\n",
       "      <th>2746</th>\n",
       "      <td>The whole experience was underwhelming, and I ...</td>\n",
       "      <td>0</td>\n",
       "      <td>16</td>\n",
       "      <td>19</td>\n",
       "      <td>whole experience underwhelming think go ninja ...</td>\n",
       "    </tr>\n",
       "    <tr>\n",
       "      <th>2747</th>\n",
       "      <td>Then, as if I hadn't wasted enough of my life ...</td>\n",
       "      <td>0</td>\n",
       "      <td>28</td>\n",
       "      <td>32</td>\n",
       "      <td>wasted enough life poured salt wound drawing t...</td>\n",
       "    </tr>\n",
       "  </tbody>\n",
       "</table>\n",
       "<p>2748 rows × 5 columns</p>\n",
       "</div>"
      ],
      "text/plain": [
       "                                                 review  sentiments  \\\n",
       "0     So there is no way for me to plug it in here i...           0   \n",
       "1                           Good case, Excellent value.           1   \n",
       "2                                Great for the jawbone.           1   \n",
       "3     Tied to charger for conversations lasting more...           0   \n",
       "4                                     The mic is great.           1   \n",
       "...                                                 ...         ...   \n",
       "2743  I think food should have flavor and texture an...           0   \n",
       "2744                           Appetite instantly gone.           0   \n",
       "2745  Overall I was not impressed and would not go b...           0   \n",
       "2746  The whole experience was underwhelming, and I ...           0   \n",
       "2747  Then, as if I hadn't wasted enough of my life ...           0   \n",
       "\n",
       "      word_count  tokens_count  \\\n",
       "0             21            22   \n",
       "1              4             6   \n",
       "2              4             5   \n",
       "3             11            13   \n",
       "4              4             5   \n",
       "...          ...           ...   \n",
       "2743          12            13   \n",
       "2744           3             4   \n",
       "2745          10            11   \n",
       "2746          16            19   \n",
       "2747          28            32   \n",
       "\n",
       "                                           clean_review  \n",
       "0                       way plug us unless go converter  \n",
       "1                             good case excellent value  \n",
       "2                                         great jawbone  \n",
       "3     tied charger conversations lasting 45 minutes ...  \n",
       "4                                             mic great  \n",
       "...                                                 ...  \n",
       "2743                  think food flavor texture lacking  \n",
       "2744                            appetite instantly gone  \n",
       "2745                    overall impressed would go back  \n",
       "2746  whole experience underwhelming think go ninja ...  \n",
       "2747  wasted enough life poured salt wound drawing t...  \n",
       "\n",
       "[2748 rows x 5 columns]"
      ]
     },
     "execution_count": 41,
     "metadata": {},
     "output_type": "execute_result"
    }
   ],
   "source": [
    "# lets remove stop words\n",
    "stop_word = stopwords.words('english')\n",
    "combine_df['clean_review'] = combine_df['clean_review'].apply(lambda x: \" \".join(x for x in x.split() if x not in stop_word))\n",
    "combine_df"
   ]
  },
  {
   "cell_type": "code",
   "execution_count": 42,
   "id": "fb3703ae-a540-4d27-b826-fe2f2fd64a5e",
   "metadata": {},
   "outputs": [
    {
     "data": {
      "text/html": [
       "<div>\n",
       "<style scoped>\n",
       "    .dataframe tbody tr th:only-of-type {\n",
       "        vertical-align: middle;\n",
       "    }\n",
       "\n",
       "    .dataframe tbody tr th {\n",
       "        vertical-align: top;\n",
       "    }\n",
       "\n",
       "    .dataframe thead th {\n",
       "        text-align: right;\n",
       "    }\n",
       "</style>\n",
       "<table border=\"1\" class=\"dataframe\">\n",
       "  <thead>\n",
       "    <tr style=\"text-align: right;\">\n",
       "      <th></th>\n",
       "      <th>review</th>\n",
       "      <th>sentiments</th>\n",
       "      <th>word_count</th>\n",
       "      <th>tokens_count</th>\n",
       "      <th>clean_review</th>\n",
       "    </tr>\n",
       "  </thead>\n",
       "  <tbody>\n",
       "    <tr>\n",
       "      <th>0</th>\n",
       "      <td>So there is no way for me to plug it in here i...</td>\n",
       "      <td>0</td>\n",
       "      <td>21</td>\n",
       "      <td>22</td>\n",
       "      <td>way plug us unless go converter</td>\n",
       "    </tr>\n",
       "    <tr>\n",
       "      <th>1</th>\n",
       "      <td>Good case, Excellent value.</td>\n",
       "      <td>1</td>\n",
       "      <td>4</td>\n",
       "      <td>6</td>\n",
       "      <td>good case excellent value</td>\n",
       "    </tr>\n",
       "    <tr>\n",
       "      <th>2</th>\n",
       "      <td>Great for the jawbone.</td>\n",
       "      <td>1</td>\n",
       "      <td>4</td>\n",
       "      <td>5</td>\n",
       "      <td>great jawbone</td>\n",
       "    </tr>\n",
       "    <tr>\n",
       "      <th>3</th>\n",
       "      <td>Tied to charger for conversations lasting more...</td>\n",
       "      <td>0</td>\n",
       "      <td>11</td>\n",
       "      <td>13</td>\n",
       "      <td>tied charger conversations lasting 45 minutes ...</td>\n",
       "    </tr>\n",
       "    <tr>\n",
       "      <th>4</th>\n",
       "      <td>The mic is great.</td>\n",
       "      <td>1</td>\n",
       "      <td>4</td>\n",
       "      <td>5</td>\n",
       "      <td>mic great</td>\n",
       "    </tr>\n",
       "    <tr>\n",
       "      <th>...</th>\n",
       "      <td>...</td>\n",
       "      <td>...</td>\n",
       "      <td>...</td>\n",
       "      <td>...</td>\n",
       "      <td>...</td>\n",
       "    </tr>\n",
       "    <tr>\n",
       "      <th>2743</th>\n",
       "      <td>I think food should have flavor and texture an...</td>\n",
       "      <td>0</td>\n",
       "      <td>12</td>\n",
       "      <td>13</td>\n",
       "      <td>think food flavor texture lacking</td>\n",
       "    </tr>\n",
       "    <tr>\n",
       "      <th>2744</th>\n",
       "      <td>Appetite instantly gone.</td>\n",
       "      <td>0</td>\n",
       "      <td>3</td>\n",
       "      <td>4</td>\n",
       "      <td>appetite instantly gone</td>\n",
       "    </tr>\n",
       "    <tr>\n",
       "      <th>2745</th>\n",
       "      <td>Overall I was not impressed and would not go b...</td>\n",
       "      <td>0</td>\n",
       "      <td>10</td>\n",
       "      <td>11</td>\n",
       "      <td>overall impressed would go back</td>\n",
       "    </tr>\n",
       "    <tr>\n",
       "      <th>2746</th>\n",
       "      <td>The whole experience was underwhelming, and I ...</td>\n",
       "      <td>0</td>\n",
       "      <td>16</td>\n",
       "      <td>19</td>\n",
       "      <td>whole experience underwhelming think go ninja ...</td>\n",
       "    </tr>\n",
       "    <tr>\n",
       "      <th>2747</th>\n",
       "      <td>Then, as if I hadn't wasted enough of my life ...</td>\n",
       "      <td>0</td>\n",
       "      <td>28</td>\n",
       "      <td>32</td>\n",
       "      <td>wasted enough life poured salt wound drawing t...</td>\n",
       "    </tr>\n",
       "  </tbody>\n",
       "</table>\n",
       "<p>2748 rows × 5 columns</p>\n",
       "</div>"
      ],
      "text/plain": [
       "                                                 review  sentiments  \\\n",
       "0     So there is no way for me to plug it in here i...           0   \n",
       "1                           Good case, Excellent value.           1   \n",
       "2                                Great for the jawbone.           1   \n",
       "3     Tied to charger for conversations lasting more...           0   \n",
       "4                                     The mic is great.           1   \n",
       "...                                                 ...         ...   \n",
       "2743  I think food should have flavor and texture an...           0   \n",
       "2744                           Appetite instantly gone.           0   \n",
       "2745  Overall I was not impressed and would not go b...           0   \n",
       "2746  The whole experience was underwhelming, and I ...           0   \n",
       "2747  Then, as if I hadn't wasted enough of my life ...           0   \n",
       "\n",
       "      word_count  tokens_count  \\\n",
       "0             21            22   \n",
       "1              4             6   \n",
       "2              4             5   \n",
       "3             11            13   \n",
       "4              4             5   \n",
       "...          ...           ...   \n",
       "2743          12            13   \n",
       "2744           3             4   \n",
       "2745          10            11   \n",
       "2746          16            19   \n",
       "2747          28            32   \n",
       "\n",
       "                                           clean_review  \n",
       "0                       way plug us unless go converter  \n",
       "1                             good case excellent value  \n",
       "2                                         great jawbone  \n",
       "3     tied charger conversations lasting 45 minutes ...  \n",
       "4                                             mic great  \n",
       "...                                                 ...  \n",
       "2743                  think food flavor texture lacking  \n",
       "2744                            appetite instantly gone  \n",
       "2745                    overall impressed would go back  \n",
       "2746  whole experience underwhelming think go ninja ...  \n",
       "2747  wasted enough life poured salt wound drawing t...  \n",
       "\n",
       "[2748 rows x 5 columns]"
      ]
     },
     "execution_count": 42,
     "metadata": {},
     "output_type": "execute_result"
    }
   ],
   "source": [
    "# lets remove specific words that occur in both positive and negative reviews\n",
    "negative_review = combine_df[combine_df.sentiments == 0]['clean_review']\n",
    "positive_review = combine_df[combine_df.sentiments == 1]['clean_review']\n",
    "\n",
    "# lets apply word remover\n",
    "def word_remover(review):\n",
    "    return ' '.join([i for i in review.split() if i not in ['film', 'get', 'good', 'like', 'movi', 'phone', 'work']])\n",
    "\n",
    "negative_review = negative_review.apply(word_remover)\n",
    "positive_review = positive_review.apply(word_remover)\n",
    "\n",
    "combine_df"
   ]
  },
  {
   "cell_type": "code",
   "execution_count": 43,
   "id": "35f29a70-4f23-472c-b4b5-7572669b5f4f",
   "metadata": {},
   "outputs": [
    {
     "data": {
      "text/plain": [
       "'several dozen several hundred contacts imagine fun sending one one'"
      ]
     },
     "execution_count": 43,
     "metadata": {},
     "output_type": "execute_result"
    }
   ],
   "source": [
    "# lets check sample review #6\n",
    "combine_df.clean_review[6]"
   ]
  },
  {
   "cell_type": "code",
   "execution_count": 44,
   "id": "f20664c5-5e80-4301-9d29-5d11989864ae",
   "metadata": {},
   "outputs": [
    {
     "data": {
      "image/png": "[encoded data removed]",
      "text/plain": [
       "<Figure size 1500x500 with 1 Axes>"
      ]
     },
     "metadata": {},
     "output_type": "display_data"
    },
    {
     "data": {
      "image/png": "[encoded data removed]",
      "text/plain": [
       "<Figure size 1500x500 with 1 Axes>"
      ]
     },
     "metadata": {},
     "output_type": "display_data"
    }
   ],
   "source": [
    "# lets create visualization\n",
    "split_df = [positive_review, negative_review]\n",
    "\n",
    "for item in range(2):\n",
    "    plt.figure(figsize = (15, 5))\n",
    "    pd.Series(' '.join([i for i in split_df[item]]).split()).value_counts().head(20).plot(kind = 'bar')\n",
    "    plt.show();"
   ]
  },
  {
   "cell_type": "code",
   "execution_count": 45,
   "id": "9349111c-924a-4178-9ec7-638123d7b4df",
   "metadata": {},
   "outputs": [
    {
     "name": "stdout",
     "output_type": "stream",
     "text": [
      "Shape of training set: 2198\n",
      "Shape of test set: 550\n"
     ]
    }
   ],
   "source": [
    "# lets Split the data set\n",
    "from sklearn.model_selection import train_test_split\n",
    "\n",
    "# lets Set predictor and outcome variables\n",
    "X = combine_df['clean_review']\n",
    "y = combine_df['sentiments']\n",
    "X_train, X_test, y_train, y_test = train_test_split(X, y, test_size = 0.20, random_state = 42)\n",
    "\n",
    "# lets Print size of data splits\n",
    "print('Shape of training set:', X_train.shape[0])\n",
    "print('Shape of test set:', X_test.shape[0])"
   ]
  },
  {
   "cell_type": "code",
   "execution_count": 46,
   "id": "41a1964d-7c21-4068-aebc-fe6e46b18a96",
   "metadata": {},
   "outputs": [],
   "source": [
    "# lets Split the data set in 80/20 training and testing\n",
    "\n",
    "split = round(len(combine_df)*0.8)\n",
    "train_reviews = combine_df['clean_review'][:split]\n",
    "train_label = combine_df['sentiments'][:split]\n",
    "test_reviews = combine_df['clean_review'][split:]\n",
    "test_label = combine_df['sentiments'][split:]"
   ]
  },
  {
   "cell_type": "code",
   "execution_count": 47,
   "id": "c463e779-b0bc-4d14-9338-dc68c298e0a3",
   "metadata": {},
   "outputs": [],
   "source": [
    "# After tokenization, lets set up the split \n",
    "train_sentences = []\n",
    "train_labels = []\n",
    "test_sentences = []\n",
    "test_labels = []\n",
    "\n",
    "for row in train_reviews:\n",
    "    train_sentences.append(str(row))\n",
    "for row in train_label:\n",
    "    train_labels.append(row)\n",
    "for row in test_reviews:\n",
    "    test_sentences.append(str(row))\n",
    "for row in test_label:\n",
    "    test_labels.append(row)"
   ]
  },
  {
   "cell_type": "code",
   "execution_count": 48,
   "id": "46967dfd-b13a-4e6e-83a2-9011adeff1f9",
   "metadata": {},
   "outputs": [],
   "source": [
    "# lets Set parameters for vocab\n",
    "# lets set Train at 2200 words\n",
    "vocab_size = 2200\n",
    "\n",
    "# 16 dimensions\n",
    "embedding_dim = 16\n",
    "\n",
    "# lets set the Max length of each review limited to 100 words per review\n",
    "max_length = 100\n",
    "\n",
    "# lets apply Truncating after 100 words \n",
    "trunc_type = 'post'\n",
    "oov_tok = ''\n",
    "\n",
    "# Padding applied at the end of the review\n",
    "padding_type = 'post'"
   ]
  },
  {
   "cell_type": "code",
   "execution_count": 49,
   "id": "d71950e5-8a1c-496c-97bd-78529147a061",
   "metadata": {},
   "outputs": [
    {
     "name": "stdout",
     "output_type": "stream",
     "text": [
      "The vocab has  4573  words.\n"
     ]
    }
   ],
   "source": [
    "# Tokenizer\n",
    "tokenizer = Tokenizer(num_words=vocab_size, oov_token=oov_tok)\n",
    "\n",
    "# Fit the tokenizer - train set\n",
    "tokenizer.fit_on_texts(train_sentences)\n",
    "\n",
    "# Word index\n",
    "word_index = tokenizer.word_index\n",
    "\n",
    "print('The vocab has ',str(len(word_index)),' words.')"
   ]
  },
  {
   "cell_type": "code",
   "execution_count": 50,
   "id": "f8f9c750-f024-48b0-9c04-2ec2102250c3",
   "metadata": {},
   "outputs": [],
   "source": [
    "# lets set sequences and padding\n",
    "sequences = tokenizer.texts_to_sequences(train_sentences)\n",
    "\n",
    "# Setting padding\n",
    "padded = pad_sequences(sequences, maxlen=max_length, truncating=trunc_type)\n",
    "test_sentences = tokenizer.texts_to_sequences(test_sentences)\n",
    "test_padded = pad_sequences(test_sentences, maxlen=max_length)"
   ]
  },
  {
   "cell_type": "code",
   "execution_count": 51,
   "id": "5bc802df-a5ef-46c5-b241-fd97e8e23cd5",
   "metadata": {},
   "outputs": [
    {
     "name": "stdout",
     "output_type": "stream",
     "text": [
      "\n",
      "Training sequences:\n",
      " ['way plug us unless go converter', 'good case excellent value', 'great jawbone', 'tied charger conversations lasting 45 minutes major problems', 'mic great', 'jiggle plug get line right get decent volume', 'several dozen several hundred contacts imagine fun sending one one', 'razr owner must', 'needless say wasted money', 'waste money time', 'sound quality great', 'impressed going original battery extended battery', 'two seperated mere 5 ft started notice excessive static garbled sound headset', 'good quality though', 'design odd ear clip comfortable', 'highly recommend one blue tooth phone', 'advise everyone fooled', 'far good', 'works great', 'works great', 'clicks place way makes wonder long mechanism would last', 'went motorola website followed directions could get pair', 'bought use kindle fire absolutely loved', 'commercials misleading', 'yet run new battery two bars three days without charging', 'bought mother problem battery', 'great pocket pc phone combination', 'owned phone 7 months say best mobile phone', 'think instructions provided helpful', 'people couldnt hear talk pull earphone talk phone', 'hold charge', 'simple little phone use breakage unacceptible', 'product ideal people like whose ears sensitive', 'unusable moving car freeway speed', 'two years left contract hate phone', 'car charger well ac charger included make sure never run juice highy recommended', 'need least 3 mins get phone book time first turn phone battery life short', 'kept well', 'poor talk time performance', 'case great works fine 680', 'worthless product', 'great camera thats 2mp pics nice clear great picture quality', 'impressed product', 'nice headset priced right', 'hear garbage audio', 'excellent bluetooth headset', 'features want', 'right mind gonna buy battery', 'arguing verizon regarding dropped calls returned phones two days', 'case seems well made', 'disappointed battery', 'loud enough turn like', 'good protection make phone bulky', 'usable keyboard actually turns pda real world useful machine instead neat gadget', 'phone pretty sturdy never large problems', 'love thing', 'everything fine reasonable price e', 'disappointed', 'even dropped phone stream submerged 15 seconds still works great', 'happy 510 complaints one regarding sound quality end', 'buttons bad', 'essentially forget microsoft tech support', 'really recommend faceplates since looks nice elegant cool', 'headphones great find think perhaps best purchase made last several years seriously', 'buy different phone', 'hold phone particular angle party hear clearly', 'one big drawback mp3 player buttons phone front cover let pause skip songs lock seconds', 'week later activated suddenly died', 'feels comfortable headsets wear glasses gets way sometimes', 'great ipods', 'device great several situations 1', 'mic work', 'even bmw 3 series fairly quiet trouble hearing person saying', 'great choice', 'nice docking station home work', 'beautiful phone', 'love product', 'buy d807 wrongly advertised d807', 'great little item', 'love phone handy lot features', 'purchased within 2 days longer working', 'wear everyday holds well', 'good bargain', 'well packaged arrived time works intended', 'battery runs quickly', 'item worked great broke 6 months use', 'headsets easy use everyone loves', 'phone works great', 'construction headsets poor', 'product excellent works better verizon one boy cheaper', 'phone loads super', 'product costs much one expect work far better greater ease thing', 'made sturdy', 'worked great', 'ear buds play music one ear', 'dont waste money', 'order', 'plan use car forget', 'found product waaay big', 'best found far tried 2 bluetooths one best quality listener well ease using', 'disappointed decision', 'integrated seamlessly motorola razr phone', 'buyer beware could flush money right toilet', 'definitely bargain', 'price good free shipping good purchase', 'received supposedly new motorola 375 apparently match phone charger', 'pros good camera nice pictures also cool styles like black white', 'huge design flaw unless using correctly think case', 'love 350 headset jabra350 bluetooth headset great reception good ear piece comfortable fit', 'camera although rated impressive 1 3 megapixels renders images fall well expectations relatively high resolution', 'purcashed car charger work', 'sound quality end excellent use headset call wife ask wife use headset call 2', 'phone slim light display beautiful', 'little geeky think thats sex toast rocks oozes sex right battery embedded sleek stylish leather case', 'great product fast shipping', 'absolutely great', 'keyboard nice compromise full qwerty basic cell phone number keypad', 'got phone around end may completely unhappy', 'comfortable ear', 'winner us', 'setup simpler', 'tried several different earpieces cell phone jabra one first one found fits ear comfortably', 'could get strong enough signal', 'iam pleased purchase', 'bad quality', 'gets job done', 'great audio', 'basically service bad', 'work cell phone plug set charger', 'bluetooth weeks really like', 'bt headset disapoinment', 'small even realize getting used', 'accompanied software almost brilliant', 'headset works great packaged nicely avoid damage', 'definitly recommend', 'buyer careful', 'majority logitech earbud headsets failed', 'good stuff price', 'headset works peachy keen', 'house getting dropped coverage upstairs coverage basement', 'voice recognition tremendous', 'waste', 'several different 2 minute calls experienced 5 drops area 5 bars', 'happy item', 'disappointed', 'phone takes forever charge like 2 5 hours literally', 'got phone reccomendation relative glad', 'waste time', 'reception poor', 'items stated included description included', '3 months screen went black sudden', 'hoping', 'audio quality poor poor', 'absolutely problem headset linking 8530 blackberry curve', 'know sounds funny seemed like sketchy technology work well well one works great', 'bought $5 wired headphones sound better', 'phone fast sending kind messages web browsing significantly faster previous phones used', 'nice quality build unlike cheap', 'item fantastic works perfectly', 'love colors', 'w810i superb', 'whine internet goes use thing less like', 'great charger', 'essentially communications tool communicate', 'works like charm work one got phone', 'still maintain monkeys make headphones obviously share enough dna copy design humans', 'great value', 'work bougth l7c working', 'look sharp screen nice clear great graphics', 'last long', 'one thing hate mode set button side', 'excellent service', 'thank wasting money', 'audio quality poor', 'igo chargers tips really great', 'file browser offers options one needs handsfree great', 'superb phone great network', 'connected wife bluetooth motorola hs850 phone worked like charm whether phone pocket case', 'put latest os v1 15g likes slow crawl lock every', 'recognizes phone storage device', 'like loud buzzing override conversations phone', 'like loud buzzing override conversations phone', 'buy product', 'buy product', 'bluetoooth headset time still comfortable way fits ear', 'sound quality good functionality awesome', 'phone thorn side really abhor', 'recently problems could stay connected 10 minutes disconnected', 'incredible', 'design flaw', 'great phone', 'great phone', 'waste 13 bucks', 'check voice mail night keypad backlight turns seconds first message lost', 'replacement died weeks', 'ring tone overall good phone buy', 'lately extremely nice helpful phone', 'problems wit hit dropping signal', 'impressed', 'light weight hardly notice', 'love thin', 'bad choice', 'pleather case fit', 'useless phone simply deaf', 'color even prettier thought would graphics incredibly sharp', 'think good investment', 'makes strange ticking noises ends call', 'best electronics available fm transmitters', 'battery lasts hours', 'great headset impressed h500', '1 2 mega pixel camera part phone reasonably good7', 'nearly 2 years worked great', 'good transmit audio', 'sending back', 'bother contacting company dollar product learned lesson bought form online anyway', 'hate earbugs avoid phone means', 'great price also', 'range decent able roam around house phone living room reception sound quality issues', 'fast service', 'would highly recommend', 'would recommend', 'also like button felt like would crack use', 'worst phone ever', 'still infatuated phone', 'freezes frequently4', 'kind embarrassing use looks mostly embarrassing child like company', 'simple lightweight great fit', 'expected better consumer experience motorola', 'horrible tick sound background calls never experienced', 'certainly comfortable functionality decent', 'usually like headbands one lightweight mess hair', 'bit disappointed', 'phone year tell great', 'ordered sony ericsson w810i think worked thats first used', 'battery completely useless', 'big waste time', 'waste $$$ one', 'great sound service', 'really pleased product far', 'one favorite purchases ever', 'best bluetooth market', 'authentic leather nice shine comfort recommend case', 'excited get headset thought really cute', 'make mistake', 'big disappointment calendar sync', 'phone unusable new', 'worst customer service ever', 'additional ear gels provided instructions whatsoever', 'defeats purpose bluetooth headset', 'worth every penny', 'excellent wallet type phone case', 'nice headphones price work great', 'internet excrutiatingly slow', 'comfortable wear well probably important aspect using case', 'fits like glove strong secure durable', 'gosh best phone ever', 'attractive appears good quality', 'love features form factor', 'product strong rubber petroleum smell unbearable caused return', 'poor quality service', 'cable looks thin flimsy scary', 'great earpiece', 'excellent hands free tool', 'great using home stereo', 'good product incredible value', 'month worked flawlessly far', 'works great', 'works great', 'absolutel junk', 'one work either', 'battery life real good', 'returned 8 hours later', 'great item', 'waste money', 'love headset', 'drain player may also potentially fry', 'worked perfectly', 'unreliable giving', 'gave 5 stars sound quality', 'avoid one', 'reversible plug works great', 'wasted little money earpiece', 'good phone', 'best rotating feature helpful', 'comfort whole family', 'good product good seller', 'love bluetooth', 'first wear well', 'impressed headset plantronics', 'got small adorable', 'recommend buying product', 'piece junk', 'poorly contstruct hinge', 'item great installed let charged overnite working good every since problems', 'great phone', 'great phone', 'buy', 'excellent phone', 'purchase phone', 'voice recognition thru handset excellent', 'hands best phone ever', 'works great cat attacked phone scratched protective strip instead destroying screen', 'one works priced right', 'customer service terrible', 'battery life still long enough motorola razor v3i', 'sending back', 'know made wise decision', 'someone shouldve invented sooner', 'good price', 'everything worked first try device certainly engineered clever way construction feels good', 'received quickly works great', 'working great', 'many people complained found headset microphone weak', '5 year old nokia 2160 tracfone holds charge lot better', 'care consumer one bit', 'good battery got really fast', 'instruction manual lacking', 'also slim enough fit alarm clock docking station without removing case', 'phone holds charge like new', 'battery unreliable well service use antena', 'uncomfortable sound quality quite poor compared phone razr previous wired headset plugged lg', 'gotten lot compliments', 'definitely must state allow cell phone usage driving', 'want money back', 'love device', 'also happy price', 'ordered product first unhappy immediately', 'ngage still lacking earbuds', 'able voice dialing car problem', '2 3 bars cell phone home cant hear anything', 'good item low price', 'however riingtones best neither games', 'plug work well', 'amazon sucks', 'rip charge shipping', 'comfortable', 'battery working well replacement original came phone 2 years ago', 'reception excellent', 'fits comfortably either ear sound clear loud charge lasts couple days', 'clear quality sound mess sound ipod since sound buttons headset', '1 long lasting battery recharge frequentyly flip phones 2', 'obviously problem adhesive', 'disappointing', 'inexpensive piece would still expected better quality', 'practically useless add kind boost reception bought', 'excellent sound quality', 'happy', 'piece junk broke phone 2 days', 'new battery works great phone', 'worst customer service', 'dropped phone times say even concrete phone still great knock wood', 'reception terrible full static', 'good audio quality', 'little device transformed organizational capability made life whole lot easier', 'sitting vehicle cradle belt headset lost signal', 'jerks phone', 'works like charm works advertised', 'comfortable nice range good battery life', 'network coverage los angeles horrible', 'excellent starter wireless headset', 'loudspeaker option great bumpers lights appealing', 'thing think could improve sound leaks headset', 'first reception sucks never 2 bars ever', 'phone gets extremely hot', 'microphone also works well according people called applifies everything', 'nice design quality', 'also phone dropped case going save specially dropped face', 'light easy use clear reception transmission', 'bad fit way big', 'definitely good s11', 'awesome device', 'waste money', 'ordered motorola data cable got well finished working product', 'love phone', 'looking headset long time got happier', 'drivng along headset starts ringing reason', 'display excellent camera good year', 'battery life also great', 'worst phone ever months', 'good item worked started problems auto reverse tape player', 'embarassing also ears hurt try push ear plug ear', 'protects phone sides', 'average phone bad battery life operates weak network', 'clear skype calls long battery life long range', 'soyo technology sucks', 'great hands free device', 'even take self portraits outside exterior display cool', 'problem others mentioned', 'trying many many handsfree gadgets one finally works well', 'magical help', 'worst piece crap ever along verizon customer service', 'poor sound quality', 'best phone market', 'worked well', 'company shipped product promptly works well', 'exactly wanted', 'picture resolution far comparably priced phones offering today', 'great deal', 'great deal', 'excellent product satisfied purchase', 'highly recommend encourage people give try', 'better expect', 'using earpieces left right thing stay ear', 'great product price', 'sounds good reasonably priced effective simple', 'still waiting sure item would work well ever recieve', 'disappointment', 'prompt service', 'excellent product price', 'excellent product price', 'pleased headset', 'waste money time', 'especially love long battery life', 'stupid keep buying new chargers car chargers cradles headphones car kits every time new phone comes', 'plantronics bluetooth excelent buy', 'came verizon cingulair nicer cell phones first thing noticed really bad service', 'looking new earpiece', 'highly recommend device everyone', 'jawbone era awesome', 'received white colored battery goes dead couple hoursthe original used last week still lasts longer thereplacement', 'year battery went completely dead headset', 'used several phone two years one best', 'awesome new look fall 2000', 'first phone cheaply made', 'att clear sound distorted yell talk', 'plastic breaks really easy clip', 'price good', 'make mistake', 'oh forgot also mention weird color effect phone', 'using iriver spinn case fits fine', 'also area unit broke fond magnetic strap', 'overall psyched phone appointments contacts gets great reception', 'every thing phone work perfectly like', 'another note phone appearance really looks rather bland especially black model', 'really easy', 'sanyo survived dozens drops blacktop without ill effect', 'fantastic earphones', 'finds cell phone right away enter car', 'low quality', 'highly recommend modest priced cellular phone', 'get better reception clarity phone', 'warning stay away', 'wish could return unit get back money', 'awsome device works great', 'used talk 1 1 1 2 hours battery would literally drained dying', 'find bad unit comes one earpad would recommend anyone', 'displeased', 'might gotten defect would risk buying built quality alone', 'made case small difficult install', 'restored phone like new performance', 'would recommend purchasing jabra jx 10 series 2 works flawlessly moto q go figure', 'searched internet found one best value', 'fit', 'fit', 'happy product', 'screen size big key pad lit well enough camera quality excellent camera phone', 'really nothing bad say headset', 'glad found product amazon hard find high priced', 'portable works', 'colleague get great reception little expensive performance great', 'even fully charged went bed turned blue tooth wi fi noticed 20 left morning', 'also problems phone reading memory card always turn', 'good wearing hat sunglasses', 'timely shipment quality product', 'nice solid keyboard', 'well made fits surefire gx2 perfectly', 'horrible phone', 'bt50 battery junk', 'would recommend others', 'cant get software work computer', 'disappointed', 'poor voice clarity', 'battery works great', 'buyers remorse one', 'disappointed accessoryone', 'find inexcusable probably returning phone perhaps changing carriers', 'looks great strong', 'tmobile service 2 3 years pretty happy', 'update procedure difficult cumbersome', 'disappointment hate anything goes ear', 'great software motorolas', 'delivery time', 'easy use', 'uncomfortable ear use lg vx9900 env', 'volume switch rocketed unit destination unknown', 'holds charge long time reasonably comfortable long wearing conditions quality sound tremendous', 'like return', 'keyboard really worthwhile usefulness sturdy enough expect problems', 'verizon bills however difficult understand even though pricing plans simple', 'charging overnight batteries work great', 'regret', 'love phone', 'disappointment', 'user friendly', 'unfortunately ability actually know receiving call rather important feature phone pitiful respect', 'exchanged phone even problem', 'results phone either stuck max volume mute', 'pda rocks', 'super charged use small hybrid palmtop camera cellphone excels roles', 'would definitely recommend jabra bt250v looking comfort clarity great price', 'verizon 2 years ago really liked service', 'pretty piece junk', 'plug wrong size', 'works described', 'save money item 11 months', 'bad purchase', 'well im satisfied', 'bose noise cancelling amazing important nyc commuter', 'battery excellent bargain', 'defective crap', 'would given star able', 'wear glasses fits fine', 'sound quality device unacceptable unless really quiet area almost hear nothing', 'would recommend item anyone', 'holster arrived match photo ad', 'great problems', 'earlier review noted plug charger nothing happens', 'frog phone charm adorable eye catching', 'never know pushed hard enough right number times function want', 'sound clear people talk amazed quality', 'got aluminum case new palm vx worked really well protected handheld perfectly far', 'good product well made', 'mobile phone tools must', 'impressed job motorola sturdiness phone', 'received orders well within shipping timeframe everything good working order overall excited source', 'phone sturdy waterproof', 'impressed would recommend item anyone', 'complaint standard sound volume little low even turned 5 5', 'thanks amazon things need good price', 'ended sliding edge pants back pockets instead', 'go store bought new nokia phone working great', 'really ugly', 'horrible switch 3 times', 'noise shield incrediable', 'real improvement', 'razr battery good buy', 'keep good work amazon', 'refuse refund replace', 'unfortunately easy accidentally activate gentle touch buttons accidentally touch phone face listening', 'basically threw money window nothing', 'great case price', 'took one drop 6 inches kitchen counter cracked impressed laughing', 'bluetooth range good days ago left phone trunk got call carried conversation without hitch', 'small sleek impressive looking practical setup ample storage place', 'eargels channel sound directly ear seem increase sound volume clarity', 'none new ones ever quite worked properly', 'glad purchased', 'missed numerous calls reason', 'perhaps phone defective people cannot hear use', 'sucked stuff work phone', 'shifting bubbling peeling even scratch nothing happier new one droid', 'worst software ever used could give zero stars would', 'trying make call exercise frustration', 'case flimsy piece plastic front side protection whatsoever', 'jabra earset happy sound quality especially outgoing better', 'love camera really pretty good quality', 'thank great service', 'total package', 'seller understanding patient would definitely buy', 'give wirefly 1 star contact cingular inform practice', 'aggravating', 'great product price', 'purchased family friends enjoy clarity ease use', 'virgin wireless rocks cheap little phone', 'none works buy', 'muddy low quality sound casing around wire insert poorly super glued slid', 'please dont waste money', 'quite satisfied purchase', 'looking good quality motorola headset keep looking', 'yet plantronincs continues use flawed charger design', 'disapointing results', 'cumbersome design', 'great new packaged nice works good problems came less time expected', 'great product', 'piece crap', 'experience terrible fourth bluetooth headset much comfortable last jabra hated', 'fixes problems', 'worst ever', 'happy', 'trouble accessing internet downloading ringtones performing functions', 'barely ever hear constantly saying', 'battery life highly unacceptable', 'company joke', 'everything description said would', 'due happening every call forced stop using headset', 'works great car charger especially cannot plug two adapters time', 'verizon tech support walked procedures none worked ended hard set wiping data', 'voice quality signal strength dropped calls', 'plays louder speaker size price low would think quality lacking however', 'better expected', 'feels poorly constructed menus difficult navigate buttons recessed difficult push', 'battery holding well', 'also difficult put recommend avoiding product', 'used two days always easy hear', 'got car charger even week charger broken went plug started smoking', 'sprint terrible customer service', 'linked phone without effort', 'cool', 'easy use', 'better new', 'possesed get junk idea', 'piece trash', 'pretty good product', 'great phone', 'price amazon excellent product would highly recommend', 'research development division obviously knows', 'real killer volume course breaking', 'phones working fine', 'happy product', 'poor construction', 'infuriating', 'overall would recommend phone new walkman', 'sprint charges service', 'cheap feel look cheap', 'fits ear well comfortable', 'work europe asia', 'clipping belt deffinitely make feel like 50 cent coming', 'like design look jabra behing ear headsets 5020 pretty comfortible wear 24 hours day without pain ear', 'amazed quick arrival two original lg cell phone batteries fraction price', 'worst phone samsung crap crappy samsung e715 worst ever seeen', 'charger worked week completely stopped charging phone', 'poor product', 'however needed better instructions', 'need two hands operate screen software interface decade old cannot compete new software designs', 'worked well paired treo 700w skype headset pc using usb bluetooth transceiver', 'steer clear product go genuine palm replacementr pens come three pack', 'buy buyit sucks', 'great product sure beats using fingers', 'plus seriously believe worth steep price point', 'cases tried normally fall apart months one seems long haul', 'dissapointing performance', 'make mistake please buy phone', 'phone might well worst ever brand', 'case less extra originally put later discarded scratched ear', 'recommend igo anyone different brand cell phones mp3 players family', 'bother go store', 'posted detailed comments grey black phone fire red great color', 'problem item would order needed', 'get pay guess', 'software great job could also make ringtones form existing cds without internet connection', 'im surprised good quality car charger much reviews', 'fabulous', 'however bt headsets currently good real time games like first person shooters since audio delay messes', 'used bitpim free program find internet transfer data phone price cable excellent', 'disappointing accessory good manufacturer', 'performed awful muffled tinny incoming sound severe echo end call', 'wind resistant', 'obviously terrible customer service get pay', 'last forever overly expensive replace easy operate sound much better others tried', 'contacted company told although unit still warranty produce receipt luck', 'linksys way exchange bad phone refurb unit something', 'phone sturdy nokia bar phones', 'great phone', 'great phone', 'placed treo case snug lot extra room sides', 'pleased', 'battery terrible', 'found product easy set use', 'earpiece large heavy keeps falling ear', 'utter crap sound quality terrible', 'charger arrived within promised timeframe work', 'ear loop needed tiny sound great', 'finally three four times spring latch broke could use longer visor', 'handsfree part works fine car tries download address book treo reboots overall still rate device high', 'talk useless customer service', 'felt light tinny', 'fit palm tungsten e2 broke first time tried plug', 'happy purchase good quality low price', 'love look feel samsung flipphones', 'well designed sharp blue nice color', 'everything', 'could recommend', 'nice sound', 'looks good picture case huge disappointment', 'much less jawbone going replace', 'setup went smoothly', 'extremely slow takes forever anything', 'must study anyone interested worst sins industrial design', 'first thing happened tracking', 'well made easy access phone handy detachable belt clip', 'continue pairing periodically since somehow kept dropping', 'upload ringtones third party', 'bluetooth work phone locks screens flash makes calls randomly pocket locked', 'truly awful', 'works fine motorola 325 cellphone lot better worn battery', 'volume ringer real good choices loud', 'none tones acceptable', 'camera color balance awful', 'product clearly ready prime time care cool looks tell call coming worthless', 'love ringtones upbeat', 'chinese forgeries abound', 'easy pair samsung cell', 'instructions explain microphone jack could used', 'would advise purchase item never worked well', 'bad pay $$$ month service', 'works well', 'nokia ca 42 usb cable work phone', 'clear crisp sound', 'use smallest earpieces provided stays pretty well', 'biggest complaint battery drains superfast', 'design might ergonomic theory could stand ear', 'buy want use holster', 'phone also take great pictures even video clips', 'make look cool', 'ears occupied background distracting', 'comfortable fit need headset comfortable least hour time entire day', 'also phone seem accept anything except cbr mp3s preferably ripped windows media player', 'beat price', 'comes strong light use light camera shots even flash sos signals seriously', 'lightweight works well', 'beware', 'love cable allows connect mini usb device pc', 'anyone near hear part conversation', 'cool cases open allowing screen get scratched', 'bought phone replacement startac regretted since', 'appears actually outperform original battery china came v325i', 'store anything phone numbers sim', 'lasts less 3o minutes actually try use phone wife phone problem', 'poor quality', 'jabra ear gels r best', 'worth', 'phone crashed completely get replaced', 'quit working used 18 months purchased another one best headset ever owned', 'unfortunately recharge iphone 4s despite connecting multiple power sources imac external battery wall outlet etc', 'great phone', 'simply want small flip phone look elsewhere extra bells whistles mediocre', 'good value works fine power via usb car wall outlet', 'phone slide around car grip prevents phone slipping hand', 'simply best bluetooth headset sound quality', 'think plan one sure last moto phone', 'span hour two people exclaim whoa new phone tv', 'always used corded headsets freedom wireless helpful', 'case passed one year mark shows signs wear 100 functional', 'leather nice soft fit tight cut face good shape', 'everything need ask', 'receiving using product 2 days broke', 'product great makes working lot easier go copier waiting hold something', 'none three sizes sent headset would stay ears', 'mobile best customer service anywhere', 'arrived quickly much less expensive others sold', 'tried 2 units failed within 2 months pros', 'provides good protection looks classy', 'krussel always good', 'tracfonewebsite user friendly makes easy toactivate etc', 'design good 4', 'great reception time', 'would highly recommend product', 'use unit sunglasses good texas', 'dit work time nokia 5320', 'bought mainly charger broke soon purchasing', 'fantastic buy get whatever next phone', 'stay away store careful', 'blueant supertooth hands free phone speaker awesome', 'item arrived quickly works great metro pcs samsung sch r450 slider phone sony premium sound ear plugs', 'light plenty battery capacity confortable wear somewhat extended periods time', 'disappointing', 'blue ant easy use', 'cheap hey works pleasantly suprised given low cost item', 'camera phone may used dustpan indoors rather using disposable', 'days later puff smoke came phone use', 'convenient simple use gets job done makes car ride much smoother', 'nano stated son dissapointed', 'sound quality excellent well', 'best headset used', 'would reccommend', 'around years carries highest quality anti glare screen protector found date', 'wanted', 'particular model would work motorola q smartphone', 'wont work right atleast', 'addition feels amp looks phone lightweight cheap plastic', 'warranty problems reoccure bottom line put money somewhere else cingular support', 'really wanted plantronics 510 right one many issues good', 'great product', 'crisp clear', 'first charge kept going dead 12 minutes', 'cheap plastic creaks like old wooden floor', 'get absolutely horrible reception apartment phones problem', 'reception generally good', 'excellent sound battery life inconspicuous boot', 'great bluetooth', 'highly recommend case', 'worthwhile', 'phone got year old slowly breaking despite much care part', 'sorry made purchase', 'bought hoping could make bluetooth headset fit better things made impossible wear', 'treo mobile refused replace forced buy another phone without kind upgrade discount', 'horrible', 'think would hold securly belt', 'allows possibility double booking date time first', 'work 2 weeks break', 'simple use like', 'great tool entertainment communication data management oh sure use activesync 4 2 optimal data synchronization results', 'use case smell disgusting', 'wanted', '2 cases would order another', 'bought battery coupon amazon happy purchase', 'internet access fine rare instance worked', 'perfect ps3', 'five star plus plus', 'good quality bargain bought bought cheapy big lots sounded awful people end hear', '$50 drain', 'tried talking real loud shouting telephone gets old still told great', 'good works fine', 'price great deal', 'great price', 'wind completely useless', 'yes shiny front side love', 'work', 'first thought grtting good deal $7 44 plugged phone v3c razr', 'reception headset excellent', '2 thumbs seller', 'verizon lg phone work well together good reception range exceeds 20 feet line sight', 'improper description return', '1 works 2 comfortable', 'battery charge life quite long', 'jabra eargels fit ears well', 'battery life', 'checked everywhere feature really disappointing', 'product exactly described', 'gets signal verizon phones', 'job', 'would recommend', 'plan ordering', 'said phone camera nice many cool effects play video decent well', 'satisfied cell phone day one', 'keep getting better better third one numerous palms', 'awkward use unreliable', 'shipping time also quick', 'good hoped', 'good case', 'work', 'really good product', 'unfortunately work', 'three broke within two months use', 'dont buy', 'father v265 battery dying', 'however ear pads come easily one week lost one', 'calls drop phone comes screen goes black worst stops ringing intermittently', 'horrible horrible protector', 'like nokia either', 'reaching bottom row uncomfortable send end keys expect 3', 'bought nokia cell phone weeks ago nightmare', 'would take long describe bad customer service experience amazon', 'disappointing thing speakerphone', 'terrible car accept cassette', 'product useless since enough charging current charge 2 cellphones planning use', 'says', 'stay away q', 'used dirty', 'unreliable service mobile', 'good enough price', 'bought two neither charge', 'looks nice', 'excellent tool especially paired phone auto answer', 'read reviews problem', 'products cover important light sensor ear outlet', 'comfortable hand', 'work', 'poor reliability', 'works', 'take picture battery drops bar starts beeping letting know dieing', 'terrible product waste money', 'last time buying', 'waste money', 'far worked like charm', 'weeks far good', 'case best part download pictures laptop using ir even send pictures laptop phone', 'would recommend item', 'choice headset years great sound good volume good noise cancellation', 'nice case feels good hands', 'item received counterfeit', 'really good far probably best bt headset ever', 'works fine', 'received headset good time happy', 'pleased see could replace well travled swivel holster blackberry flip', 'sister one also loves', 'good quality', 'far worst purchase made amazon', 'excellent dual purpose headset', 'excellent', 'work listening music cingular 8125', 'seems completely secure holding belt keeping iphone inside', 'bottowm line another worthless cheap gimmick sprint', 'trouble volume', 'good thing fits comfortably small ears', 'warning buy', 'pairing iphone could happier far', 'opens battery connection broken device turned', 'want clip going top ear causing discomfort', 'best headset ever', 'trust website expect helpful support', 'loud glad say plantronics 510 maintains flawless connection cell static normal use', 'speaker low quality making ring tones sound cheap', 'fits comfortably came three sizes earbud tips', 'bad reception', 'product high quality chinese crap', 'quite comfortable ear', 'buy product fails', 'everything product wrong first', 'pairing two devices easy barely took couple minutes started making calls voice dialing feature', 'utterly confusing first caused lose couple important contacts', 'terrible phone holder', 'cutouts buttons placed perfectly', 'love able use one headset land line cell', 'problem ear loops made weak material break easily', 'nearly good looking amazon picture makes look', 'despite flaws case exceptional quality well worth additional costs owning official oem product', 'stupid', 'hear driving car usually even put loudest setting', 'seller shipped quickly much cheaper competitors', 'good show samsung', 'bought 10 saved alot money', 'always cuts makes beep beep beep sound says signal failed', 'figure', 'phone sounded ok great ok wife phone almost totally unintelligible understand word said', 'take battery phone put back together restart', 'managed bend leaf spring back place metal enough stress break next drop', 'leopard print wonderfully wild', 'works', 'saggy floppy piece junk', 'much better hard plastic cases', 'also new problem', 'happy far', 'cool phone', 'works good', 'motorola finally got voice quality bluetooth headset right', 'looses connection phone even within couple feet two', 'great would really recommend', 'makes easier keep bluetooth wearing', 'said pretty useless', 'never got', 'pair headphones worst ever sound wise', 'drain weak snap', 'charge cingular att 8525 phone', 'get extra minutes carry call get cut', 'however year fliptop started get loose wobbly eventually screen went black receive place calls', 'kept catching cable seat pull phone turn', 'headset fulfills requirements happy purchase', 'logitech bluetooth headset 10', 'like fact rests lightly ear rather inside', 'lot websites rating good phone', 'tried cables computer ipod works fine', 'mic joke volume quite low', 'returning', 'maintain connection computer lap', 'easy turn car volume controls quite accessable', 'mine year christmas bought rest family', 'otherwise easy install use clear sound', 'nice leather', 'purchase different case', 'joy use', 'much disappointed company', 'satisifed', 'charge', 'phone get 2005 bought s710a say wow', 'buttons small', 'reading specs alone makes say wow', 'love great armband', 'really like product motorola allot clearer ear piece mic', 'however keypads tinny sometimes reach wrong buttons', 'exchanged sony ericson z500a pretty happy decision', 'impressed price cases', 'also makes easier hold', 'use product motor control center lot high voltage humming equipment works great', 'pretty easy', 'cannot make calls certain places', 'however girl complain time phone wake like normal phone', 'beautiful styling though', 'company charge restocking fee still given refund back', 'trying return refund', 'plugged find darn thing worked', 'excellent product', 'earbud piece breaks easily', 'lousy product', 'phone tries hard everything fails ability phone', 'best charger seen market yet', 'sweetest phone', 'oh charger seems work fine', 'fits securely ear hook even need used sound better directed ear canal', 'enough volume', 'echo problem unsatisfactory', 'could take 2 videos time quality poor', 'waste money', 'going first negatively review product', 'adapter provide enough charging current', 'much hype phone assumed best mistake', 'also cannot take pictures case lense covered', 'phone falls easily', 'work people hear talk', 'text messaging feature really tricky use', 'really disappointed charger work', 'painful ear', 'lasted one day blew', 'disappointed', 'kind flops around', 'screen get smudged easily touches ear face', 'piece junk lose calls phone', 'item match picture', 'thing disappoint infra red port irda', 'answer calls unit never worked', 'slow moving aimless movie distressed drifting young man', 'sure lost flat characters audience nearly half walked', 'attempting artiness black white clever camera angles movie disappointed became even ridiculous acting poor plot lines almost non existent', 'little music anything speak', 'best scene movie gerardo trying find song keeps running head', 'rest movie lacks art charm meaning emptiness works guess empty', 'wasted two hours', 'saw movie today thought good effort good messages kids', 'bit predictable', 'loved casting jimmy buffet science teacher', 'baby owls adorable', 'movie showed lot florida best made look appealing', 'songs best muppets hilarious', 'cool', 'right case movie delivers everything almost right face', 'average acting main person low budget clearly see', 'review long overdue since consider tale two sisters single greatest film ever made', 'put gem movie terms screenplay cinematography acting post production editing directing aspect film making', 'practically perfect \\x96 true masterpiece sea faux masterpieces', 'structure film easily tightly constructed history cinema 1 think film something vitally important occurs every minute 1 words content level film enough easily fill dozen films 1 anyone right mind ask anything movie 1 quite simply highest superlative form cinema imaginable 1 yes film require rather significant amount puzzle solving pieces fit together create beautiful picture 1 short film certainly pulls punches 0 graphics far best part game 0 number one best th game series 1 deserves strong love 1 insane game 1 massive levels massive unlockable characters massive game 1 waste money game 1 kind money wasted properly 1 actually graphics good time 1 today graphics crap 0 say canada fun game aye 1 game rocks 1 buy play enjoy love 1 pure brilliance 1 flick doomed conception 0 idea lame take minor character mediocre pg 13 film make complete non sequel changing tone pg rated family movie 0 least bit interested 0 confirm film would unfunny generic also managed give away entire movie exaggerating every moment every plot point every joke told trailer 0 funny 0 even talented carrell save 0 co stars fare much better people like morgan freeman jonah hill ed helms wasted 0 story predictable lazy 0 real effects work presence animals integration scenes worst obvious blue green screen work ever seen 0 whatever cost much translate quality sure 0 film succeeds despite perhaps obviously meagre budget 1 glad film go obvious choice lesser film certainly would 1 addition one lovely songs ever written french cancan also boasts one cutest leading ladies ever grace screen 1 hard fall head heels love girl 1 negative insipid enough cause regret another 2 hours life wasted front screen 0 long whiny pointless 0 recommend waiting future efforts let one go 0 excellent cast story line performances 1 totally believable 1 anne heche utterly convincing 1 sam shepard portrayal gung ho marine sobering 1 sat riveted tv screen 1 give one resounding 9 10 1 think tom hanks good actor 1 enjoyed reading book children little 1 disappointed movie 0 one character totally annoying voice gives feeling fingernails chalkboard 0 totally unnecessary train roller coaster scene 0 absolutely warmth charm scenes characters 0 movie totally grates nerves 0 performances improved improvisation actors twice much worry whether delivering line well whether line good 0 quite honestly often good 0 often dialogue really follow one line another fit surroundings 0 crackles unpredictable youthful energy honestly found hard follow concentrate meanders badly 0 generally great things 1 say worth 2 hours time though 0 suspense builders good cross line g pg 1 especially liked non cliche choices parents movies could predict dialog verbatim writing movie made better selections 1 want movie gross gives chills great choice 1 alexander nevsky great film 1 amazing film artist one important whoever lived 1 glad pretentious piece planned dodge stratus big shots gonna help movie makers restrained movie business québec', 'first movie given 10 years', 'ever movie needed word mouth promote', 'overall film interesting thought provoking', 'plus well paced suited relatively short run time', 'give one look', 'gave 10', 'wind lion well written superbly acted', 'true classic', 'actually turned pretty decent far b list horror suspense films go', 'definitely worth checking', 'definitely worth checking', 'problem script', 'horrendous', 'nothing believable', 'suspense feeling frustration retarded girls', 'manna heaven terrific film predictable unpredictable time', 'scenes often funny occasionally touching characters evaluate lives going', 'cast veteran actors nostalgia trip', 'ursula burton portrayal nun touching funny time making fun nuns church', 'looking movie terrific cast good music including shirley jones rendition way look tonight uplifting ending give one try', 'think disappointed', 'frankly cotton club unfaithful kind embarrassing watch lane gere film bad', 'acting bad dialogs extremely shallow insincere', 'predictable even chick flick', 'politically correct', 'disappointing', 'thing really worth watching scenery house beautiful', 'love lane never seen movie lousy', 'hour half wish could bring back', 'terms writing fresh bold', 'acting helps writing along well maybe idiot savant sister could played better real joy watch', 'directing cinematography quite good', 'movie boring sometimes found occupied peaking paper instead watching never happened columbo movie', 'sometimes embarrassing look away', 'directing seems pretentious', 'scenes oh mature neighbour girl misplace', 'generally lines plot weaker average episode', 'scene debated whether sack trumpeter falsely accused murder pure horror really stupid', 'applause given prelude however', 'really liked', 'great film great director', 'movie edge seat made somewhat afraid go car end night', 'music film really nice', 'advise anyone go see', 'brilliant', '10 10', '10 10', 'liked movie way much', 'problem thought actor playing villain low rent michael ironside', 'rocked world certainly must see anyone social physical outlets', 'however make fact overall tremendously boring movie', 'chemistry ben affleck sandra bullock film understand would consider even leaving wife chick supposedly knocked', 'several moments movie need excruciatingly slow moving', 'poor remake best friends wedding', 'great disappointment', 'cannot believe actors agreed film', 'could stand even watch long fear losing q', 'guess nobody network aired dribble watched putting', 'imdb ratings go low 1 awful time get negative numbers cases', 'saw mirrormask last night unsatisfactory experience', 'unfortunately inexperience direction meant scene scene passed little way dramatic tension conflict', 'central themes film handled ineptly stereotypically depth imagination', 'pretty pictures world cannot make piece work flawed core', 'hour half waste time following bunch pretty high schoolers whine cry life', 'relate hell barely understand', 'definitely cult classic well worth viewing sharing others', 'movie pure disaster story stupid editing worst seen confuses incredibly', 'fish badly made underwater shots repeated thousand times film', 'truly truly bad film', 'acting terrible writing worse', 'possible way movie could redeemed would mst3k fodder', 'paid much', 'also real treat see anthony quinn playing crazy horse', 'boring', 'plot whatsoever', 'plot', 'horrible', 'worst hour half life oh gosh', 'walk theatre minutes get relief', 'hate movies like', 'yeah movie pretty much sucked', 'plot storyline', 'go see movie bring pillow girlfriend boyfriend keep occupied', 'awful', 'think ever gone movie disliked much', 'good thing tickets cost five dollars would mad paid $7 50 see crap', 'nobody identifies characters cardboard cutouts stereotypes predictably reverse stereotypes', 'bad film bad writing good actors ugly cartoon crafted paul haggis people handle anything bold strokes storytelling picture painted crayons', 'crash depressing little nothing provokes emotion teaches nothing already know racism prejudice bad things', 'still like movie empowerment women enough movies like one', 'brain attempt shut part primal impulse self preservation', 'left shattered experience watching film took good two hours fully recover', 'movie joins revenge boogeyman zombiez part hellish trinity horror films', 'certainly mean distinction good way', 'mean terrible way', 'film redeeming features', 'everything appalling', 'artless camera work endlessly presents us ugliest setting imaginable e', 'story beyond stupid', 'script script', 'kids annoying', 'lead man charisma free', 'utterly without merit level akin torture', 'even say \\x96 torture', 'maybe would reasonable explanation atrocity', 'pleasant voyage self discovery', 'highly unrecommended', 'premise sound stupid', 'yes bad', 'nothing recommend', 'excellent performance ms', 'garbo showed right bat talents could carry silent era wanted see silent work netflix seem stocking', 'also great see renowned silent screenwriter frances marion missed step going silent sound', 'movie suffered writing needed suspense', 'many close ups', 'movie seemed drag heroes really work freedom', 'movie definitely average rent', 'love 1 movie bad 0 bad 0 film way long 0 definitely one bad ones 0 movie received great quality film age 1 john wayne incredible job young movie industry 1 screen presence shined thought even though senior actors screen 1 think must see older john wayne film 1 really see anyone could enjoy movie 0 think ever seen movie half boring self indulgent piece junk 0 probably would better director spent movie showcasing art work really noteworthy 0 another thing really like character got punched face gallon blood would spew forth soon 0 jamie foxx absolutely ray charles 1 performance simply genius 1 owns film spacek owned coal miner daughter quaid owned great balls fire', 'fact hard remember part ray charles acted played man 1 ray charles legendary 1 ray charles life provided excellent biographical material film goes well beyond another movie musician 1 hitchcock great director 1 ironically mostly find films total waste time watch 0 secondly hitchcock pretty much perfected thriller chase movie 1 pandering audience sabotages films 0 hence whole story lacks certain energy 0 plot simply rumbles like machine desperately depending addition new scenes 0 usual hitchcock logic flaws 0 mishima extremely uninteresting 0 chilly unremarkable movie author living working chilly abstruse culture 0 flat reenactments hold attention emotionally adrift stagy 0 rest sits awful soldiers singing songs masculinity pledge hairsplitting purity admiration swords etc 0 bore pieces kill momentum movie quicker anyone else 0 schrader made resume full lousy amateurish films 0 first watched movie 80s loved 1 totally fascinated music dancing everything 1 however recently watched whole thing dvd completely struck extremely stupid storyline contained holes inconsistencies frankly whole lot crap horrid dancing 0 mean realistic world would never gotten ballet repertory whole thing quite pathetic 0 character developments also lacked depth 0 woa talk awful 0 waste time 0 horrible 0 worst sappiest dialogue could go 0 really made unwatchable direction 0 poor actors 0 even tell talent pathetic lines speak director gave action 0 check director filmography site see film chance 0 would even good made tv flick 0 good intentions made film great film might one greatest films ever made 1 film great actors master director significant theme least would significant theme undertone fifties existential world weariness aerial scenes ought thrilled senses imagination characters one might deeply care 1 regrettably film fails 0 movie lacks visual interest drama expression feeling celebration patriotism underlines narrative 0 actress worse used june allison movie 0 yet enjoy watching 1 unfortunately bad movie plain bad 0 bad script bad direction horrible acting make one plain bad 0 dialogue sucked 0 cinematography called sucked 0 soundtrack sucked 0 acting sucked 0 concert sequences sucked 0 nice 1 funny 1 funny 1 overall movie cheap trash 0 movie funny considering ridiculousness 0 came feeling angry 0 spoilers whatever else said surface superbly crafted 1 cinematography simply stunning say least fx nothing state art 1 conceptually show offers little bit everything everybody parents kids fantasy fx fans 1 single sour note struck acting wise either surprisingly solid casting 1 things considered job well done 1 thanks good movie like done released 1 one best mexican movies ever one less understood even mexican matter identified felt 1 ranks highly great noir crime drama incredible performances belmondo lino ventura 1 attention given every character complex psychological portrayals detailing loyalty treachery love hope tremendous 1 excellent drama excellent thriller excellent film 1 best melville 1 everything film simply incredible 1 truly take journey eyes soul child 1 black water thriller manages completely transcend limitations indie flick continually subverting expectations emerge intense experience 1 performances real gripping crocdodile extremely well done indeed black water website believed used real crocs swamp location fabulous 1 thoroughly enjoyed christopher eccleston took control tardis continuation series 1 sure trying film 0 turn good day feeling night disturbing memories guess succeeded 0 lot beautiful places 1 forced like everything movie 0 lame 0 movie really pi ed 0 even get started jerky camerawork 0 saw theater thought going sick 0 summary witticisms witty 0 plot well said let one go 0 acting bad 0 really bad 0 even billy bob rise script worse 0 camerawork bad 0 rating 1 10 0 amazing finale possibly best trilogy time 1 kieslowski never ceases amaze 1 one favourite directors one talented directors history cinema 1 use colours french flag three films nothing short incredible every shot every scene like work art 1 three visually appealing movies ever seen 1 subtle connections three films awesome 1 mention huge spoiler loved ending characters three films remaining survivors ferry disaster valentine young judge together old man watching tv solidifying happiness suffering dealt many years 1 think better way end film smile face great way wrap amazing film trilogy 1 recommend everyone loves film movies anything work art 1 10 10 movie trilogy 1 literally vomited watching film 0 think one people found another one roth pearls 1 performance awarded stunning 1 story told eloquently francis ford coppola 25 years earlier really unfolds gradually leaves room characters develop 1 wonderful location lies story contrast 1 beautiful directed film nicola roeg wih sublime cast 1 translating movies living first movie 5 year working experience found offensive intelligence 0 someone strives greatness poetry delivers muddled often ridiculous story bunch disparate scenes pretentious dialogue get worst kind movie reviewer accurately defined pretentious crap', 'find movie intelligent even masterful say intelligence imagination obviously used try make sense pitiful attempt human nature try make sense things', 'one thing tolerate political incorrectness well artistic freedom suspension disbelief slavic female character much', 'fun funny movie', 'highly entertaining angles', 'features outlandish array memorable psychotic lovable nuts', 'enjoyment get see run around play games dangerous', 'even sweet moments', 'telephone repair man really funny reactions nuts bitchy boss truly genuine', 'characters film tremendously well played', 'really find funny', 'actually smart movie', 'brilliant twist ending', 'love 1 ending perfect shed tear 1 thrilled seeing movie like 1 never forget 1 cult cult classic 1 depth character man underneath 0 malta settings dry barren dialogue 0 movie terrible 0 hockey scenes terrible defensemen playing like 5 years old goalies diving shots 10 feet wide net etc 0 seen waste time 0 call movie drama ridiculous 0 started watching believe characters 0 particular relationship bakery assistant waitress work 0 superficial movie gave feeling watching play rather film 0 characters stagey storyline lot like stage farce 0 time pyromaniac waylaid assistant bored care happened next switched 0 glad pay see 0 laugh even smile 0 anything one big yawn 0 really good show watch 1 educational children 1 8 years old 1 barney definitely super de duper 1 pretty funny 1 babie bop cute 1 kids cool 1 storm trooper even bad enough make list wonderfully terrible movies', 'lame', 'guy said better dialogue potted plants right', 'everything movie stupid', 'even love bad movies watch movie', 'shameful', 'would give television series 10 plus could', 'writers smack think best actors actresses bonus show characters real', 'must say taped episodes find watching', 'know gave 10', 'know exactly movie latched endearing movie become special part family memories', 'totally absolutely recommend movie anyone likes good wholesome family movies exactly', 'things four kids get absolutely hilarious watch', 'one best movies shows strong sibling bond', 'much interesting action suspense less unneeded controversy', 'everything acting cinematography solid', 'damian talented versatile many ways writing portraying different characters screen', 'movie cutting edge', 'pleased know modern day genius letting passion art drive taking us audience', 'new characters memorable found forgetting', 'felt though going ireland absolutely nothing whatsoever', 'make scared horrified make sympathetic towards characters simply annoying', 'jerky camera movements also annoying', 'plot pretty much every cheap horror', 'pathetic attempts give characters depth really work rest plot', 'guess supposed clever twist shed light situation stupid', 'see probably leave shelf', 'elias koteas jack palance play good roles angelina hot gets naked billy drago appears cool usual cameo sven ole thorsen helps make enjoyable movie good acting decent budget', 'awesome movie bought ebay', 'really loved story line poler bear kinda cute anyone question fort steele ask away', 'totally unfunny movie top pathetic unrealistic throughout whole 90 minutes utter torture probably looked watch 70000 times', 'lucy bell much higher crap sink low quite depressing', 'movie make sick watching slackers make excuses stupid actions 90 minutes', 'god never get 90 minutes back', 'think wonderful parts literally full wonder excerpts works', 'sets especially designed work camera amazing stylized beautiful effective', 'could used exemplars set designer', 'stories powerful explorations nature man art', 'watching film wanted learn works artist', 'highly recommend movie anyone interested art poetry theater politics japanese history', 'wind lion see wonderful rendering america imperial age', 'makes story different terrific production values faultless photography composition editing terrific casting underappreciated brian keith playing bully teddy vivid history', 'though wind lion told largely eyes son every member family identify one characters whether sean connery noble brigand candace bergen feisty heroine john huston wily john hay steve kanaly spiffy radiant ruthless lieutenant roosevelt big stick', 'high adventure best', 'think robert ryans best film portrayed someone like father schizophrenic real life father although never murdered anyone affected second world war made worse', 'humour get get day apt', 'mother brother saw robert ryan portraying type man good imitation type individual impressed', 'almost songs cover girl old fashioned tuneful', 'annoying thing cover girl way rita hayworth put pedestal', 'unfortunately cover girl example hollywood used exploit women financial gain', 'non linear narration thus many flashbacks every part articulated quite well', 'good cinematography also makes monica bellucci look beautiful', 'good commentary today love undoubtedly film worth seeing', 'people first timers film making think excellent job', 'popular cinema good house good reactions plenty laughs', 'feel good film felt came cinema', 'northern humour positive community represents', 'rather enjoyed', 'liked', 'take seriously', 'really created unique feeling though', 'vivian schilling excellent job script', 'world better 95 garbage theatres today', 'role played well', 'screamy masculine right', 'camera really likes movie', 'would casted role ready script', 'european movie nice throwback time student 1980 experiences living abroad interacting nationalities although circumstances slightly different', 'fan movie sucked really bad', 'even worse ticker', 'movie bad', 'like 3 4 buildings used couple locations maybe poor hummh', 'blew', 'movie excellent angel beautiful scamp adorable little yelps hes scared funniest parts scamp caught curtain angel scamp singing ive never feeling totally recommend movie coming special edition june 20 cover scamp garbage angel underneath lid', 'cant explain movie romantic charming hilarious adorable junkyard scenes funny junkyard dogs something special funny laughed kids love buy comes new features', 'chosen tortured disgusting piece blatant american propaganda', 'show made americans stupid full hatred clichés admitted elsewhere', 'almost everyone involved must return school acting utterly predictable bad script pile garbage round', 'wish could enter negative values admins', 'sets bad look place thunderbirds episode', 'use slow motion needlessly repeats throughout movie well backed bad acting bad kind word continuity scenes thrown reason whatsoever vehicles looked like made corn flakes box directorial style bordered stupidity', 'oh yeah storyline pathetic', 'hate writing bad reviews films especially really like star film bad believe one second anyone could proud', 'filmmaker director would hide head sand spent whatever amount money time movie', 'short monumental waste time energy would recommend anyone ever see film', 'came free dvd player bought still turned thing halfway embarrassed howell', '1 10 setting 0 10', 'interesting premise billy drago always good dangerous nut bag side note love see drago stephen mchattie lance hendrikson flick together talk raging cheekbones', 'soundtrack terrible either', 'acting even professionals drago debbie rochon terrible directing worse perhaps contributory former dialog chimp like camera work barely tolerable', 'still sets got big 10 oy vey scale', 'yes simplifying things sake brevity really core problems film much going without real fulfilling explanation', 'good jobs quite amusing', 'convoluted plot convince much film watched weird questioning glance', 'let girlfriend talk seeing bad idea hated', 'last 15 minutes movie also bad well', 'bela lugosi totally extraneous intoning odd lines', 'acting decidely wooden though worse period universal b movie', 'like armand assante cable company summary sounded interesting watched twice already probably', 'believe screenwriter good job tying loose ends', '8 10 score mostly plot', 'say like spoilers want one believe film worth time', 'wow bad film', 'frightening least barely comprehensible', 'plot hang together acting absolutely appalling', 'even good camp value', 'expecting oscar material', 'iq particularly stupid mollusk see one coming', 'film use word loosely insult movie going public', 'someone involved knew string together narrative', 'gets 1 10 simply nothing lower', 'one watched recently fox movie channel disappointed', 'know contract player little control scripts acting bad script', 'victor mclaglen even bad brian donlevy almost unrecognizable', 'considering relations screen taylor stanwyck surprising little chemistry screen two', 'premise film ridiculous president u', 'death row scenes entirely unmoving', 'thing worse taylor acting stanwyck singing', 'whatever producer going missed entirely', 'deeply impressed character played', 'knew saw film great things come gifted actor', 'cheap cheerless heist movie poor characterisation lots underbite style stoic emoting think chow yun fat better tomorrow cheesy clichés thrown abandoned factory ready poorly executed flying judo rolls la john woo', 'even squibs look awful', 'point proceedings look remotely like america', 'plot derivative predictable ending like mercy killing', 'awful dialogue hopeless overacting everyone gets shot top real waste space time', 'uneasy bad movie scared', 'dialogue composed things make little sense', '30 minutes footage wasted show mediocre elderly actors awkwardly babbling overwrought pseudo satanic gibberish corny enough make teen goth blush almost always olde english sometimes latin may may made words', 'directing sloppy best', 'hackneyed writing certainly made even worse bad directing', 'course acting blah', 'acting whole cast could put scale balanced perfectly overacting underacting', 'finally get ending would great handled competent people jerry falwell', 'loved movie great portrayal family share ups end knew special love', 'seen many movies starring jaclyn smith god one best though came 12 years ago', 'movie contained star cast loved opened eyes see actors seen', 'movie kind long length enjoyed every minute', 'overall rate movie 10 1 10 scale', 'lifetime air enough anyone knows store sells let know must', 'particularly remember senses assaulted strident cords music would blare little warning even less meaning', 'sort pap screened afternoon punish unemployed jobs', 'totally different loads understatement black comedy film get see remember', 'movie creates universe fascinating every way', 'movie really got', 'see', 'really hope team behind movie makes movies continue kinda weird style', 'forgot casting superb trond fausa aurvåg perfect role bothersome man understand', 'movie good humorous comment life 2006', 'found move beautiful enjoyable uplifting', 'initially local sites film filmed buffalo intrigued', 'later found lost power film', 'entire audience applauded conclusion film', 'left theater lilt step joy heart hope human race', 'duris wholesome appearance gives fine performance', 'rest cast also play well', 'cinematography noteworthy including fine views barcelona famed gaudi towers', 'ten minutes film started second thoughts', 'half way film started dislike', 'time film ended disliked despised', 'film lacks convincing script', 'script looks rough draft written shooting began finished script completed', 'things happen characters personalities change plot twists occur real reason script calls', 'cast good', 'worth checking', 'probably irritating show ever seen entire life', 'indescribably annoying idiotic show ever seen', 'everything bad', 'could understand kind idiot would produce mess first place mention several season', 'script bad bad \\x96 contains cheesiness unethical joke normally see rated r nc 17 movie', 'casting also horrible cause see really really bad actors period', 'final word show real torture', 'zillion times away reality', 'watching washing machine twirling around hurt eyes much show', 'rating 0 10 grade z note show bad even mother cast pull daughter show', '20th century fox road house 1948 quite silly noir implausible unmitigated bore movie', 'full unconvincing cardboard characters blandly written edward chodorov also produced surprisingly directed jean negulesco one would expect great deal', 'widmark character turns unintentionally comical', 'losing marbles early proceedings totally implausible unconvincing', 'enough mess movie picture also marred constant use studio sets indoor exteriors', 'whatever prompted documentary beyond', 'serious spoilers movie huge disappointment', 'many problems dont know start', 'cast great', 'steve martin delivers really funny performance middle aged upper class uptight white guy', 'add betty white jean smart great cast everyone played parts really well', 'movie makes lot serious mistakes', 'first enough racial stereotypes racial jokes offend everyone', 'movie littered overt racial slurs towards black cast members return whites depicted morons boobs', 'putting race card aside lets look major flaw film destroy latifa character', 'real plot', 'wouldnt see movie free', 'steamboat willie amazingly important film cinema history', 'second appearance mickey mouse following silent plane crazy earlier year probably famous film mostly ground breaking', 'yet hear mickey speak tons sound effects music throughout film something take granted huge crowd pleaser 1928', 'however seeing short 25 years amazed timeless film actually', 'adorable seeing mickey playing turkey straw highly imaginative occasionally cruel way', 'clever real crowd pleaser film still ranks among mickey best films even 80 wonderful years', 'bipolarity ruthless thug one minute ruthless killer next minute luv diaper commercial completely unconvincing', 'terribly disappointed film would receive many awards accolades especially far deserving works film', 'original body soul 1947 masterpiece', 'john garfield ann revere lilli plmer william conrad canada lee filmed one greatest cinematographers ever grace screen james wong howe', 'think redeeming qualities remake', 'may bad film ever made', 'bad well bad', 'movie solid example bad plot bad idea way', 'shame see good actors like thomerson james make living mess like', 'thought bad', 'films terrible credit 1986 version watchable', 'let start problems\\x97the acting especially lead professor bad', 'script big flawed mess', 'best example dumb writing established turn zombie students back humans removing necklace containing piece meteorite', 'director paul matthews also wrote directed weak 1995 monster movie grim clearly know pace films', 'movie terribly boring places', 'lighting awful', 'film looks cheap bland', 'one disappointing aspects lack notable gore', 'convention never worked well past certainly work', 'visual effects awful', 'cg opening sequence space looked like could created microsoft slideshow god sake', 'explosion gas tanks end awful', 'okay like consider fair critic give credit credit due creature effects actually pretty cool', 'gotta love close ups slimy drooling teeth', 'sum film breeders terrible cheaply made horror movie avoided like ebola virus', 'recommended', 'recommended', 'almost unbearable watch screen little charisma terrible comedic timing', 'aside terrible lead film loads debits', 'understand supposed cheap popcorn comedy mean completely insult intelligence writing incredibly hackneyed borders offensive', 'lewis black considerable talent wasted incendiary unrestrained pg 13 rating certainly allow', 'film sole bright spot jonah hill look almost unrecognizable fans recent superbad due amount weight lost interim', 'originality freshness first movie spent remake little else offer', 'budget evidently limited', 'reflected cast also par script borrowed much earlier classic', 'however decent acting action location work balance things', 'filmiing less expansive', 'failed convey broad sweep landscapes great part original', 'generally lacked imagination', 'possible movie get worse', 'plot keep going first place', 'even women finally show sign improvement expected things happen time film might far asleep', 'beware trashy cult movie trash period', 'believe even sequel', 'precisely giving bad review', '90 child truly enjoyed show proudly say enjoyed big time even classical wb cartoons', 'tiny toons kept 90 vibe delivered one popular funny underrated cartoons ever created', 'memories murky say enjoyed every single episode product related show', 'easily none cartoon made laugh tender way getting dark sitcoms oriented teenagers', 'characters funny peculiarity true lead character', 'every single character hilarious deserved called lead', 'every element story top excessively phony contrived painful sit', 'lines seem written fifteen year old though trying oh hard sound like fifteen year old would really um know well talk', 'perabo nice energy level obviously comfortable front camera', 'simply excuse something poorly done', 'saw movie thought stupid movie', 'even stupid thought idea volcano los angeles', 'honest unbelievable nonsense foolish', 'conclusion bother movie volcano los angeles nothing nonsense', 'story line awful', 'painful', 'accents absolutely abysmal', 'also enough hypocrisy film make vomit', 'waste time watching rubbish non researched film', 'believe pitch black done well', 'characters interesting want find longer movie goes think people surprised make', 'go watch', 'omit watching', 'funny', 'rating 3 10', 'characters interesting really care', 'instant classic great soundtrack catchy song ending credits', 'miss', 'masterful piece film making many themes simmering occasionally boiling warts study poet bohemian self indulgent wartime years span aerial bombardments london outward tranquillity welsh coastal retreat borderlines friendship lust love dedication art experience versus practical concerns jealousy rivalry cowardice egotism versus heroism self sacrifice', 'mature subtle script suggests occasionally brings dramatic focus underlying tensions well served perfect performances apart odd inappropriate smiling keira knightley prone though perhaps direction time characters often mention', 'exquisite visual composition moment inventive elegant use close camera angle lighting including pointillistic faux home movie footage wonder joy behold', 'continuously beautiful look bertolucci relationships convincing narrative engaging master work', 'basic premise wasted since sidelined inexplicable focus documentary crew', 'regardless film fails levels', 'avoid costs', 'saw film christmas great film', 'thought errol flynn brilliant custer since become favourite actor', 'acting alongside olivia de havilland brilliant ending fantastic', 'always known errol flynn brilliant actor dads favourite actor grew watching films child', 'watched film realised great actually', 'give film 10 10', 'know jim connor energetic nobody could much george well dull', 'really seem want hosting voice overs monotonous get involved guests', 'lovely little thriller hitchcock lots nice shenanigans surrounding murdered spy kidnapped child nasty church foreign plot random taxidermists', 'jimmy stewart ever great hero hitchcock story rips along cool climax embassy function lacks brooding menace hitchcock black white low budget original', 'nevertheless yet another wonderful film great master stable', 'say film excellently produced tops ratings typical sci fi film', 'excellently produced one sci fi best producers scot vandiver', 'entertaining nonetheless', 'campy sort film joy watch', 'barely boring moment film plenty humorous parts', 'cast always entertaining usual', 'overall delight', 'movie mind bendingly awful even created', 'film lacks real scares tension medical terminology used throughout bit iffy say least say insulin dependant diabetic', 'least said acting better', 'movie excellent job revealing complexity task incredible challenges facing south africa', 'believe every one see movie think people outside south africa understand past attempted truth reconciliation process', 'nothing short magnificent photography cinematography film', 'acting fantastic stories seamlessly woven together dogs splendid must rent view see', 'afraid subtitles worth little aversion therapy 10 10', 'excellent performance', 'still good actors around', 'also great directing photography', 'true shakespear must shakespear fans', 'macbeth jason connery moved tears final monolog brief candle gave sphere moral decay dark forces human face makes interesting', 'helen baxendale credible lady macbeth cheerfull times sometimes looks like naughty girl deadly taste blood evil', 'love death decay shakespears lyrics one', 'witty delightful adaptation dr seuss book brilliantly animated upa finest thoroughly deserving academy award', 'special mention made superb music score sound effects integral element helping make memorable enjoyable cartoon', 'however paul schrader indeed made film mishima superb complex', 'also notable john bailey fine crisp beautifully colored cinematography great production design costumes eiko ishioka went memorable costumes coppola dracula received well deserved oscar', 'even allowing poor production values time 1971 format kind mini series baaaaaad', 'unless visually collect extant films austen work skip one', 'watch however small consolations actresses playing anne sisters wonderful job roles', 'good', 'speaking music unbearably predictably kitchy', 'film dropped ball', 'stunning movie', 'raw sublimely moving', 'felt like gripping intelligent stage play without overly theatrical feeling one actually gets watching people stage plays everyone terror white lie escalating monstrous consequences', 'main players mesmerising', 'tom wilkinson broke heart end everyone else judging amount fumbling hankies hands going faces among males females alike', 'julian fellowes triumphed', 'national treasure', 'go see', 'excellent film', 'aerial scenes well done', 'also right balance war love', 'film gives meaning phrase never history human conflict much owed many', 'kris kristoffersen good movie really makes difference', 'good film great director', 'definitely one better documentaries seen looking family relationships marriage', 'many continuity errors one user commented different cars garage joe glasses one got fact joe facial hair configuration seemed change scene scene', 'great movie', '10 10 stars', 'see movie inspiration anyone come overcome fear rejection', 'bad actually worth seeing reason', 'punishment park brilliant piece cinema', 'shot southern california desert using patent faux documentary style watkins creates film like', 'one peter watkins accessible films', 'advise look', 'wont regret', 'highly recommended', 'well keep thinking bad', 'mediocre miserable hollow laughable predictable piece garbage', 'case bad laughable', 'bad performance plays angela bennett computer expert home time', 'film nothing pretext show ridiculous action scenes', 'awful', 'still bad actress repeating robotic face moves pictures', 'results well shame', 'delete film mind', 'one worst shows time', 'show would begin smart ass ed comments would totally wall uncalled', 'fat computer geek unbelievable bible thumper bad ass girl actors', 'never heard except cole totally unbelievable part', 'every time opened mouth expect hear see kids pulling plug mercy killing horrible show', 'stories unbelievable actors', 'lame would best way describe', 'stanwyck morgan perfectly cast many ways modern equivalent dickens christmas carol sensibility', 'success film depends casting sydney greenstreet alexander yardley character', 'attractive set used throughout film eye pleasing gem', 'im big fan rpg games movie disgrace self respecting rpger', 'lines cuts audio everything wrong', 'find better movies youtube', 'top line waste time money one bad comes', 'lassie movie put sleep forever', 'describe painfully dreary time waster film', 'mediocre every aspect becomes dull uninteresting mess one forgettable movies seen', 'even achievement bad good bad memorable movie', 'empty hollow shell movie', 'seriously worth wasting kid time', 'avoid avoid avoid', 'drive barking mad', 'transfers good', 'nice relaxing late night viewing', 'movie full wonderful dancing hence title', 'great music terrific scenery', 'handles tough issues dignity grace course shocking spoiler', 'happy wonderful feel good ending', 'point journey journey touches every member family', 'one movies need see whenever comes tv never mind fact already memorized', 'nothing new', 'done second movie', 'movie almost action scenes little comedy', 'plot holes pair fishnet stockings direction editing astonishingly ham fisted', 'earth irons film', 'saw film recommend', 'good plot holds complete attention acting superb tom wilkinson fantastic emily watson also good', 'good film indeed great unconditional love', 'tom wilkinson character man prepared ordeal begin takes matter hand story progresses great actor gives performance makes feel character anguish suffering', 'emily watson character strong give quick glance understand everything', 'despite pans reviewers liked movie', 'fact liked better interview vampire liked lestat stuart townsend better cruise attempt', 'aailiyah pretty good akasha places compelling first entrance mini dance scene', 'big fan series mostly due anne rice style sensitivities treatments', 'guess liked details dysfunction believable', 'football scenes end perplexing', 'thought acting skilled', 'meredith better right', 'charming film wonderful sentiment heart', 'rare film maker takes time tell worthy moral tale care love fall trap overly syrupy indulgent', 'nine ten truly lovely film', 'early film future goremeister lucio fulci good addition giallo sub genre', 'one best italian thrillers early 70', 'standout scene', 'scene strong unpleasant', 'technically film well made impressive camera work solid acting effective music riz ortolani \\x96 particularly good recurring unaccompanied female vocal sounds like coming distant hill', 'still wild stuff though highly recommended fans giallo cinema', 'movie interesting beginning end', 'liked way dustin hoffman character ready everything stay son', 'movie also revealing', 'personally think shows people learn find compromise self without involving people issue', 'boring', 'tired clichés lazy writing come thick fast', 'ps scene movie cool central character finds room blown', 'fresh subtle rather sublime effect', 'italian reviewer called small great film right', 'actors give wonderful performance especially jennifer rubin jamie harris changes nervous starlet beginning strange events part cool star', 'learn lot real inside emotions people movie lot movie business', 'movie movie situations beginning game played acting coach fascinating', 'also music mark snow possibly best score ever heard', 'forget movie', 'film made', 'film ultra cheap look', 'result film look right', 'none engaging exciting', 'plot nonsense interest slightest way uniqueness', 'foreigner worth one second time', 'saw child tv back 1973 stranger loved', 'duet astronaut doctor beginning movie perfect exchange one considers movie made well cold war astronaut biggest fear crashed ussr', 'movie awesome', 'loved really scary', 'love scream movies horror movies one ranks way', 'want real scare rent one', 'extraordinary film', 'courtroom drama compelling indictment american justice system frightening', 'film highlights fundamental flaws legal process discovering guilt innocence rather presents better court', 'film well paced understated one best courtroom documentaries seen', 'mostly routine fact based tv drama gets boost fine performance cole', 'predictable bad watch', 'clear range ability pull part', 'carries movie well', 'constantine gives everything right intensity seems good understanding underlying psychological motivations', 'wonderful inspiring watch hope gets released video dvd', 'piece trash ever released beyond acting story characters supposedly special effects etc wrong', 'fact stinker smells like direct video release', 'avoid costs', 'star trek v final frontier worst series', 'acting involved includes like shatner nimoy bad washed making seem old look real life special effects tacky like spock rescue kirk jet pack falls mountain', 'attempts humor pitiful story awful dosen bear thinking basically involves vulcan stealing enterprise find god seriously care film oh mention uhura belly dance distract male guards', 'place good film garbage', 'worst one series', 'editing editing film phenomenal opinion', 'song could explain emotions subjects better jay adams unfortunate life subject talk song old man neil young played evokes many emotions', 'cinematography film shot interesting way', 'course footage 70s grainy enhanced film', 'film offers many delights surprises', 'achille philippa beautifully sing duet giovanni perfectly describes situation movie appreciate subtle layers excellent film', 'story unfolds 18th century jutland use period music played period instruments one fine touch', 'share general loewenhielm exquisite joy partaking cailles en sarcophage even though watching movie wish small sample savor', 'understated film leaves lasting impression', 'warmth generates contrast austere backdrop', 'leave theater wanting go dance stars', 'acting expect cast top notch', 'characters fleshed surprisingly well particularly grimes blake actors deliver sharply scripted lines right amount deadpan tongue cheek make dialogue hilarious realistic', 'angus scrimm also turns good performance somewhat brief memorable role gently menacing violin playing anatomist doctor quinn', 'conclusion loved', 'long time since entertained movie', 'struggle find anything bad say', 'mark words one cult films like evil dead 2 phantasm people still discovering falling love 20 30 40 years line', 'pretty surprising wonderful film made 1949 hollywood generally collective heads sand concerning black white issues time', 'film deserves strong kudos taking stand exceptional acting mostly lesser known cast super intelligent script insult audience take easy way comes white racism', 'plus movie rather modest budget fast running time amazing job', 'juano hernandez exceptional actor played supporting roles many films era proud black man accused murdering white man south', 'trumbull love lucy', 'see kids chance open amazing dialog far race relations come last 50 years', 'see films', 'year however reminded us huston still top game evinced faithful adaptation james joyce acclaimed novella dead', 'feelings thoughts gabriel discomfort dance intangibles leap life come within viewer grasp huston portrayal', 'disappointed wondered could oscar shortlist', 'slow', 'lot holes plot nothing became emperor nothing spend 20 years childhood mature age', 'waste time', 'end days one worst big budget action movies ever seen', 'surely know make coherent action movie screenwriter air force one obliged write script big sum money', 'one worst films ever seen', 'still trying get bad', 'movie possibly one creative works horror ever', 'everything could want suspense drama comedy confusing subplots native americans brain eating looking end brainsucking movies look', 'great sound effects impressive special effects recommend movie enough 1 call nut think one best movies ever 1 great character actors telly savalas peter boyle 1 1 hour 54 minutes sheer tedium melodrama horrible acting mess script sinking feeling good lord thinking 0 lots holes script 0 like bad two hour tv movie 0 imagine every single one decisions made wrong 0 dialogue atrocious 0 acting beyond abysmal 0 everything stinks 0 trouble writing directing make impossible establish things make movie watchable like character story theme 0 worse incredibly weak sub plot thrown follows little band latter day mansonites go reporter working story anniversary killings 0 dumb pointless complete waste time 0 short bother movie 0 spoil ending pretty amazing 1 best scene movie end spoil 1 ever indication writer director ability meld two highly volatile temperaments seamless union creativity 1 result powerhouse achievement made timely perhaps culture disturbing fascination celebrity distorted interpretations fame 1 film easily forgotten 1 kevin spacey excellent verbal tsunami buddy ackerman \\x96 totally believable great actor 1 scripting subtle comedy unmatched movie recent years 1 characters interesting even bit predictable 1 highly recommended ages although younger set probably appreciate subtle references certainly appreciate one galley scene particular 1 great movie 1 also story acting weak 0 around 4 pm bought around 8pm started watch around 8 15pm fast forwarded remaining film see anything left watchable human brain 0 either way sucks 0 script horrendously stupid 0 story starts fast absolutely suspense build slightest 0 everything captain howdy says either laughable plain stupid 0 hell kind crap 0 plot holes 0 could drive semi truck holes 0 linda cardellini thing good film 1 poised amazing 1 dee snider plain sucks 0 act one least scary villains ever seen write write damn movie sleep 0 bored throughout whole damn thing 0 acting sucks music sucks script sucks pacing sucks special fx suck directing sucks basically movie sucks 0 film tries serious sophisticated thriller horror flick fails miserably 0 probably one least effective utterly unoriginal films ever seen entire life 0 piece cinematic garbage captured celluloid 0 avoid costs 0 rate film stinks funny fulci stayed giallo supernatural zombie movies 0 avoid film costs 0 know happened season five mess 0 consistent thread holding series together amazing performances leni parker anita laselva two taelons quiet idealogical conflict 0 movie really dislike 0 one boring horror movies 90 mainly starts slow centers boring atmosphere 0 puppets look really cheesy good way like puppet master 80 flicks 0 story lame interesting never really explains sinister origins puppets 0 death scenes like previous movies f x terrible 0 felt asleep first time watched recommend insomniacs 0 fact film wonderful heartwarming tale two people chasing dreams 1 best part nurse betty unpredictability', 'director neil labute uses brutal violence seperate dreams reality along touching drama hilarious comedy never tell going happen next', 'otherwise even waste time', 'one fails create real suspense', 'killer expect anything original even remotely frightening', 'however pretty good acting least type film', 'sorry really recommend anyone', 'one boring pointless movies ever seen', 'secondary plot line incomprehensible relation primary plot line mystifying', 'hated', 'one worst sandra bullock movie since speed 2 quite bad', 'understand garbage got shelves movie store even real movie', 'highly doubt anyone could ever like trash', 'movie making', 'acting like watching wooden puppets moving around reading book bad', 'warn rent movie dumbest thing never seen', 'saw short film hbo day absolutely loved', 'realize wonderful short really last two scenes', 'excellent short film', 'hopefully director james cox turn short feature length film cast win us whole new film', 'agree jessica movie pretty bad', 'characters one dimensional even good guys especially bad guys', 'story line totally predictable', 'much dialogue much music whole film shot elaborately aesthetically like sculpture', 'seen soap operas intelligent movie', 'bad characters bad story bad acting', 'really awful', 'easy watch', 'funny clever hip like pray previous film hype', 'long time see charismatic actor screen', 'paolo sorrentino written wonderful story loneliness tony built one unforgettable characters seen movies recent years', 'movie completely perfect titta di girolamo stay long time vision movie', 'rate movie 9 10', 'know emilio estevez directorial debut pacing interplay development characters well clever camera work surrounding character estevez plays suggest natural eye', 'interplay martin emilio contains wonderful chemistry saw wall street martin charlie', 'kathy bates wonderful characters subtle desperation escapism variation character play fields lord', 'readers already seen one miyazaki films still top form made another worthwhile experience', 'never condescends characters good genuine hearts believable problems', 'two main characters may two believable children ever saw put screen', 'easy love even easy identify', 'movie great especially enjoy visual arts', 'scenery two daughters paint photograph beautiful', 'story also funny poignant times', 'people like european films art movies like movie', 'truly art movie actually lot art', 'go rent', 'however finally watching film realized closed mind brilliance depicts also found watching', 'one movie never ceases interest simply keeps alert try attempt decipher meanings', 'brilliance indeed', 'liked movies like matrix better yet sequels think appreciate thought provoking mindblowing experience film give', 'think film like dream', 'simply beautiful', 'rickman stowe play roles hilt tale childrens book writer maybe written subversive tract', 'gloriously fun fast paced fairly accurate portrayal night raver', 'presents idyllic yet serious portrayal ups downs characters lives', 'whatever avoid groove antithesis good human traffic', 'bad everyone else involved share crowe level dedication quality far better film hands sub par mess', 'movie seemed little slow first', 'picked speed got right point', 'showed exactly government scientist argued humanity reasons gadget', 'enjoyed', 'recommended friends', 'particularly pleased acting ability dwight schultz', 'actors truly understand become particular character delivering convincing sincere performance', 'screen chemistry critical entire film genuine', 'film dialogue natural real life', 'writer gorman bechard undoubtedly homework references industry character age appropriate', 'incredible soundtrack truly captures essence film', 'track commands sentiment actually contributing scenes characters', 'definitely worth seeing sort thought provoking film forces question threshold loneliness', 'hayao miyazaki latest eighth film studio ghibili gake ue ponyo ponyo cliff sea wonderfully fun imaginative look childhood', 'time seems film animation dominated disney pixar cgi masterpieces refreshing comforting know miyazaki still relying traditional hand drawn animation tell charming enchanting stories', 'enough said remarkable animation film', 'art style appearance crayon pencil drawings wonderfully colorful fanciful', 'act film glad gonna drift away earth far possible', 'one wants surf small wave space movies 1998 deep impact armageddon one fails everywhere', 'choked vomit end cheap drama worthless dialogue must bored death waste time', 'still makes super ending depicts great sea vessel taken mighty frost', 'consider excellent story solid acting look film added bonuses', 'instead got bore fest whiny spoiled brat babysitting', 'watched two sundays ago march 20th 2005 began really enjoy time taped entire thing', 'well acted done tv movie', 'judith light one favorite actresses think superb job film', 'keep watching', 'sad movie good', 'seen movie definitely recommend', 'lovely usual cutie', 'still quite interesting entertaining follow', 'recommend confidence', 'movie well balanced comedy drama thoroughly enjoyed', 'riot see hugo weaving play sex obsessed gay real estate salesman uses clients houses trysts flaming darren tom hollander', 'anyway plot flowed smoothly male bonding scenes hoot', 'opening sequence gem classic cat n mouse games follow delight watch', 'fans genre heaven', 'lange become great actress', 'looked like wonderful story', 'never walked movie faster', 'got bored watching jessice lange take clothes', 'unfortunately virtue film production work lost regrettable script', 'word embarrassing', 'exceptionally bad', 'insult one intelligence huge waste money', 'wow loved place', 'crust good', 'tasty texture nasty', 'stopped late may bank holiday rick steve recommendation loved', 'selection menu great prices', 'getting angry want damn pho', 'honeslty taste fresh', 'potatoes like rubber could tell made ahead time kept warmer', 'fries great', 'great touch', 'service prompt', 'would go back', 'cashier care ever say still ended wayyy overpriced', 'tried cape cod ravoli chicken cranberry mmmm', 'disgusted pretty sure human hair', 'shocked signs indicate cash', 'highly recommended', 'waitress little slow service', 'place worth time let alone vegas', 'like', 'burrittos blah', 'food amazing', 'service also cute', 'could care less interior beautiful', 'performed', 'right red velvet cake ohhh stuff good', 'never brought salad asked', 'hole wall great mexican street tacos friendly staff', 'took hour get food 4 tables restaurant food luke warm sever running around like totally overwhelmed', 'worst salmon sashimi', 'also combos like burger fries beer 23 decent deal', 'like final blow', 'found place accident could happier', 'seems like good quick place grab bite familiar pub food favor look elsewhere', 'overall like place lot', 'redeeming quality restaurant inexpensive', 'ample portions good prices', 'poor service waiter made feel like stupid every time came table', 'first visit hiro delight', 'service sucks', 'shrimp tender moist', 'deal good enough would drag establishment', 'hard judge whether sides good grossed melted styrofoam want eat fear getting sick', 'positive note server attentive provided great service', 'frozen pucks disgust worst people behind register', 'thing like prime rib dessert section', 'bad food damn generic', 'burger good beef cooked right', 'want sandwich go firehouse', 'side greek salad greek dressing tasty pita hummus refreshing', 'ordered duck rare pink tender inside nice char outside', 'came running us realized husband left sunglasses table', 'chow mein good', 'horrible attitudes towards customers talk one customers enjoy food', 'portion huge', 'loved friendly servers great food wonderful imaginative menu', 'heart attack grill downtown vegas absolutely flat lined excuse restaurant', 'much seafood like 5 strings pasta bottom', 'salad right amount sauce power scallop perfectly cooked', 'ripped banana ripped petrified tasteless', 'least think refill water struggle wave 10 minutes', 'place receives stars appetizers', 'cocktails handmade delicious', 'definitely go back', 'glad found place', 'great food service huge portions give military discount', 'always great time dos gringos', 'update went back second time still amazing', 'got food apparently never heard salt batter fish chewy', 'great way finish great', 'deal included 5 tastings 2 drinks jeff went beyond expected', 'really really good rice time', 'service meh', 'took 30 min get milkshake nothing chocolate milk', 'guess known place would suck inside excalibur use common sense', 'scallop dish quite appalling value well', '2 times bad customer service', 'sweet potato fries good seasoned well', 'today second time lunch buffet pretty good', 'much good food vegas feel cheated wasting eating opportunity going rice company', 'coming like experiencing underwhelming relationship parties wait person ask break', 'walked place smelled like old grease trap 2 others eating', 'turkey roast beef bland', 'place', 'pan cakes everyone raving taste like sugary disaster tailored palate six year old', 'love pho spring rolls oh yummy try', 'poor batter meat ratio made chicken tenders unsatisfying', 'say food amazing', 'omelets die', 'everything fresh delicious', 'summary largely disappointing dining experience', 'like really sexy party mouth outrageously flirting hottest person party', 'never hard rock casino never ever step forward', 'best breakfast buffet', 'say bye bye tip lady', 'never go', 'back', 'food arrived quickly', 'good', 'side cafe serves really good food', 'server fantastic found wife loves roasted garlic bone marrow added extra meal another marrow go', 'good thing waiter helpful kept bloddy mary coming', 'best buffet town price cannot beat', 'loved mussels cooked wine reduction duck tender potato dishes delicious', 'one better buffets', 'went tigerlilly fantastic afternoon', 'food delicious bartender attentive personable got great deal', 'ambience wonderful music playing', 'go back next trip', 'sooooo good', 'real sushi lovers let honest yama good', 'least 40min passed us ordering food arriving busy', 'really fantastic thai restaurant definitely worth visit', 'nice spicy tender', 'good prices', 'check', 'pretty gross', 'better atmosphere', 'kind hard mess steak', 'although much liked look sound place actual experience bit disappointing', 'know place managed served blandest food ever eaten preparing indian cuisine', 'worst service boot least worries', 'service fine waitress friendly', 'guys steaks steak loving son steak best worst places said best steak ever eaten', 'thought venture away get good sushi place really hit spot night', 'host staff lack better word bitches', 'bland liking place number reasons want waste time bad reviewing leave', 'phenomenal food service ambiance', 'return', 'definitely worth venturing strip pork belly return next time vegas', 'place way overpriced mediocre food', 'penne vodka excellent', 'good selection food including massive meatloaf sandwich crispy chicken wrap delish tuna melt tasty burgers', 'management rude', 'delicious nyc bagels good selections cream cheese real lox capers even', 'great subway fact good come every subway meet expectations', 'seriously solid breakfast', 'one best bars food vegas', 'extremely rude really many restaurants would love dine weekend vegas', 'drink never empty made really great menu suggestions', '', 'waiter helpful friendly rarely checked us', 'husband ate lunch disappointed food service', 'red curry much bamboo shoots tasty', 'nice blanket moz top feel like done cover subpar food', 'bathrooms clean place well decorated', 'menu always changing food quality going service extremely slow', 'service little slow considering served 3 people servers food coming slow pace', 'give 2 thumbs', 'watched waiter pay lot attention tables ignore us', 'fiancé came middle day greeted seated right away', 'great restaurant mandalay bay', 'waited forty five minutes vain', 'crostini came salad stale', 'highlights great quality nigiri', 'staff friendly joint always clean', 'different cut piece day still wonderful tender well well flavored', 'ordered voodoo pasta first time really excellent pasta since going gluten free several years ago', 'place good', 'unfortunately must hit bakery leftover day everything ordered stale', 'came back today since relocated still impressed', 'seated immediately', 'menu diverse reasonably priced', 'avoid cost', 'restaurant always full never wait', 'delicious', 'place hands one best places eat phoenix metro area', 'go looking good food', 'never treated bad', 'bacon hella salty', 'also ordered spinach avocado salad ingredients sad dressing literally zero taste', 'really vegas fine dining used right menus handed ladies prices listed', 'waitresses friendly', 'lordy khao soi dish missed curry lovers', 'everything menu terrific also thrilled made amazing accommodations vegetarian daughter', 'perhaps caught night judging reviews inspired go back', 'service leaves lot desired', 'atmosphere modern hip maintaining touch coziness', 'weekly haunt definitely place come back every', 'literally sat 20 minutes one asking take order', 'burger absolutely flavor meat totally bland burger overcooked charcoal flavor', 'also decided send back waitress looked like verge heart attack', 'dressed treated rudely', 'probably dirt', 'love place hits spot want something healthy lacking quantity flavor', 'ordered lemon raspberry ice cocktail also incredible', 'food sucked expected sucked could imagined', 'interesting decor', 'really like crepe station', 'also served hot bread butter home made potato chips bacon bits top original good', 'watch preparing delicious food', 'egg rolls fantastic', 'order arrived one gyros missing', 'salad wings ice cream dessert left feeling quite satisfied', 'really sure joey voted best hot dog valley readers phoenix magazine', 'best place go tasty bowl pho', 'live music fridays totally blows', 'never insulted felt disrespected', 'friendly staff', 'worth drive', 'heard good things place exceeding every hope could dreamed', 'food great serivce', 'warm beer help', 'great brunch spot', 'service friendly inviting', 'good lunch spot', 'lived since 1979 first last time stepped foot place', 'worst experience ever', 'must night place', 'sides delish mixed mushrooms yukon gold puree white corn beateous', 'bug never showed would given 4 sure side wall bug climbing kitchen', '10 minutes waiting salad realized coming time soon', 'friend loved salmon tartar', 'go back', 'extremely tasty', 'waitress good though', 'soggy good', 'jamaican mojitos delicious', 'small worth price', 'food rich order accordingly', 'shower area outside rinse take full shower unless mind nude everyone see', 'service bit lacking', 'lobster bisque bussell sprouts risotto filet needed salt pepper course none tables', 'hopefully bodes going business someone cook come', 'either cold enough flavor bad', 'loved bacon wrapped dates', 'unbelievable bargain', 'folks otto always make us feel welcome special', 'mains also uninspired', 'place first pho amazing', 'wonderful experience made place must stop whenever town', 'food bad enough enjoy dealing world worst annoying drunk people', 'fun chef', 'ordered double cheeseburger got single patty falling apart picture uploaded yeah still sucks', 'great place couple drinks watch sporting events walls covered tv', 'possible give zero stars', 'descriptions said yum yum sauce another said eel sauce yet another said spicy mayo well none rolls sauces', 'say would hardest decision honestly dishes taste supposed taste amazing', 'rolled eyes may stayed sure go back try', 'everyone attentive providing excellent customer service', 'horrible waste time money', 'dish quite flavourful', 'time side restaurant almost empty excuse', 'busy either also building freezing cold', 'like reviewer said pay eat place', 'drinks took close 30 minutes come one point', 'seriously flavorful delights folks', 'much better ayce sushi place went vegas', 'lighting dark enough set mood', 'based sub par service received effort show gratitude business going back', 'owner really great people', 'nothing privileged working eating', 'greek dressing creamy flavorful', 'overall think would take parents place made similar complaints silently felt', 'pizza good peanut sauce tasty', '7 table service pretty fast', 'fantastic service', 'well would given godfathers zero stars possible', 'know make', 'tough short flavor', 'hope place sticks around', 'bars vegas ever recall charged tap water', 'restaurant atmosphere exquisite', 'good service clean inexpensive boot', 'seafood fresh generous portion', 'plus 8 bucks', 'service par either', 'thus far visited twice food absolutely delicious time', 'good year ago', 'self proclaimed coffee cafe wildly disappointed', 'veggitarian platter world', 'cant go wrong food', 'beat', 'stopped place madison ironman friendly kind staff', 'chefs friendly good job', 'better dedicated boba tea spots even jenni pho', 'liked patio service outstanding', 'goat taco skimp meat wow flavor', 'think', 'mac salad pretty bland getting', 'went bachi burger friend recommendation disappointed', 'service stinks', 'waited waited', 'place quality sushi quality restaurant', 'would definitely recommend wings well pizza', 'great pizza salads', 'things went wrong burned saganaki', 'waited hour breakfast could done 100 times better home', 'place amazing', 'hate disagree fellow yelpers husband disappointed place', 'waited 2 hours never got either pizzas many around us came later', 'know slow', 'staff great food delish incredible beer selection', 'live neighborhood disappointed back convenient location', 'know pulled pork could soooo delicious', 'get incredibly fresh fish prepared care', 'go gave 1 star rating please know third time eating bachi burger writing review', 'love fact everything menu worth', 'never dining place', 'food excellent service good', 'good beer drink selection good food selection', 'please stay away shrimp stir fried noodles', 'potato chip order sad could probably count many chips box probably around 12', 'food really boring', 'good service check', 'greedy corporation never see another dime', 'never ever go back', 'much like go back get passed atrocious service never return', 'summer dine charming outdoor patio delightful', 'expect good', 'fantastic food', 'ordered toasted english muffin came untoasted', 'food good', 'never going back', 'great food price high quality house made', 'bus boy hand rude', 'point friends basically figured place joke mind making publicly loudly known', 'back good bbq lighter fare reasonable pricing tell public back old ways', 'considering two us left full happy $20 go wrong', 'bread made house', 'downside service', 'also fries without doubt worst fries ever', 'service exceptional food good reviews', 'couple months later returned amazing meal', 'favorite place town shawarrrrrrma', 'black eyed peas sweet potatoes unreal', 'disappointed', 'could serve vinaigrette may make better overall dish still good', 'go far many places never seen restaurant serves 1 egg breakfast especially $4 00', 'mom got home immediately got sick bites salad', 'servers pleasant deal always honor pizza hut coupons', 'truly unbelievably good glad went back', 'fantastic service pleased atmosphere', 'everything gross', 'love place', 'love place', 'great service food', 'first bathrooms location dirty seat covers replenished plain yucky', 'burger got gold standard $17 burger kind disappointed', 'omg food delicioso', 'nothing authentic place', 'spaghetti nothing special whatsoever', 'dishes salmon best great', 'vegetables fresh sauce feels like authentic thai', 'worth driving tucson', 'selection probably worst seen vegas none', 'pretty good beer selection', 'place like chipotle better', 'classy warm atmosphere fun fresh appetizers succulent steaks baseball steak', '5 stars brick oven bread app', 'eaten multiple times time food delicious', 'sat another ten minutes finally gave left', 'terrible', 'everyone treated equally special', 'take 30 min pancakes eggs', 'delicious', 'good side staff genuinely pleasant enthusiastic real treat', 'sadly gordon ramsey steak place shall sharply avoid next trip vegas', 'always evening wonderful food delicious', 'best fish ever life', 'bathroom next door nice', 'buffet small food offered bland', 'outstanding little restaurant best food ever tasted', 'pretty cool would say', 'definitely turn doubt back unless someone else buying', 'server great job handling large rowdy table', 'find wasting food despicable food', 'wife lobster bisque soup lukewarm', 'would come back sushi craving vegas', 'staff great ambiance great', 'deserves 5 stars', 'left stomach ache felt sick rest day', 'dropped ball', 'dining space tiny elegantly decorated comfortable', 'customize order way like usual eggplant green bean stir fry love', 'beans rice mediocre best', 'best tacos town far', 'took back money got outta', 'interesting part town place amazing', 'rude inconsiderate management', 'staff friendly wait times served horrible one even says hi first 10 minutes', 'back', 'back', 'great dinners', 'service outshining definitely recommend halibut', 'food terrible', 'food terrible', 'never ever go back told many people happened', 'recommend unless car breaks front starving', 'come back every time vegas', 'place deserves one star 90 food', 'disgrace', 'def coming back bowl next time', 'want healthy authentic ethic food try place', 'continue come ladies night andddd date night highly recommend place anyone area', 'several times past experience always great', 'walked away stuffed happy first vegas buffet experience', 'service excellent prices pretty reasonable considering vegas located inside crystals shopping mall aria', 'summarize food incredible nay transcendant nothing brings joy quite like memory pneumatic condiment dispenser', 'probably one people ever go ians like', 'kids pizza always hit lots great side dish options kiddos', 'service perfect family atmosphere nice see', 'cooked perfection service impeccable', 'one simply disappointment', 'overall disappointed quality food bouchon', 'accountant know getting screwed', 'great place eat reminds little mom pop shops san francisco bay area', 'today first taste buldogis gourmet hot dog tell ever thought possible', 'left frustrated', 'definitely soon', 'food really good got full petty fast', 'service fantastic', 'total waste time', 'know kind best iced tea', 'come hungry leave happy stuffed', 'service give stars', 'assure disappointed', 'take little bad service food sucks', 'gave trying eat crust teeth still sore', 'completely grossed', 'really enjoyed eating', 'first time going think quickly become regular', 'server nice even though looked little overwhelmed needs stayed professional friendly end', 'dinner companions told everything fresh nice texture taste', 'ground right next table large smeared stepped tracked everywhere pile green bird poop', 'furthermore even find hours operation website', 'tried like place 10 times think done', 'mistake', 'complaints', 'seriously good pizza expert connisseur topic', 'waiter jerk', 'strike 2 wants rushed', 'nicest restaurant owners ever come across', 'never come', 'loved biscuits', 'service quick friendly', 'ordered appetizer took 40 minutes pizza another 10 minutes', 'absolutley fantastic', 'huge awkward 1 5lb piece cow 3 4ths gristle fat', 'definitely come back', 'like steiners dark feels like bar', 'wow spicy delicious', 'familiar check', 'take business dinner dollars elsewhere', 'love go back', 'anyway fs restaurant wonderful breakfast lunch', 'nothing special', 'day week different deal delicious', 'mention combination pears almonds bacon big winner', 'back']\n"
     ]
    }
   ],
   "source": [
    "# lets Pad the sentences\n",
    "print(\"\\nTraining sequences:\\n\", train_sentences)"
   ]
  },
  {
   "cell_type": "code",
   "execution_count": 52,
   "id": "bd3ed3d9-4873-4556-80dd-a872f5a22df6",
   "metadata": {},
   "outputs": [
    {
     "data": {
      "text/html": [
       "<div>\n",
       "<style scoped>\n",
       "    .dataframe tbody tr th:only-of-type {\n",
       "        vertical-align: middle;\n",
       "    }\n",
       "\n",
       "    .dataframe tbody tr th {\n",
       "        vertical-align: top;\n",
       "    }\n",
       "\n",
       "    .dataframe thead th {\n",
       "        text-align: right;\n",
       "    }\n",
       "</style>\n",
       "<table border=\"1\" class=\"dataframe\">\n",
       "  <thead>\n",
       "    <tr style=\"text-align: right;\">\n",
       "      <th></th>\n",
       "      <th>review</th>\n",
       "      <th>word_count</th>\n",
       "      <th>tokens_count</th>\n",
       "      <th>clean_review</th>\n",
       "    </tr>\n",
       "    <tr>\n",
       "      <th>sentiments</th>\n",
       "      <th></th>\n",
       "      <th></th>\n",
       "      <th></th>\n",
       "      <th></th>\n",
       "    </tr>\n",
       "  </thead>\n",
       "  <tbody>\n",
       "    <tr>\n",
       "      <th>0</th>\n",
       "      <td>1362</td>\n",
       "      <td>1362</td>\n",
       "      <td>1362</td>\n",
       "      <td>1362</td>\n",
       "    </tr>\n",
       "    <tr>\n",
       "      <th>1</th>\n",
       "      <td>1386</td>\n",
       "      <td>1386</td>\n",
       "      <td>1386</td>\n",
       "      <td>1386</td>\n",
       "    </tr>\n",
       "  </tbody>\n",
       "</table>\n",
       "</div>"
      ],
      "text/plain": [
       "            review  word_count  tokens_count  clean_review\n",
       "sentiments                                                \n",
       "0             1362        1362          1362          1362\n",
       "1             1386        1386          1386          1386"
      ]
     },
     "execution_count": 52,
     "metadata": {},
     "output_type": "execute_result"
    }
   ],
   "source": [
    "combine_df.groupby('sentiments').count()"
   ]
  },
  {
   "cell_type": "code",
   "execution_count": 53,
   "id": "c8cbdb89-71d4-4445-808a-6c8b564cdfc0",
   "metadata": {},
   "outputs": [
    {
     "name": "stdout",
     "output_type": "stream",
     "text": [
      "----------------------------------------review---------------------------------------- - "
     ]
    },
    {
     "data": {
      "text/plain": [
       "review\n",
       "If you like a loud buzzing to override all your conversations, then this phone is for you!                                                2\n",
       "Works great!.                                                                                                                             2\n",
       "Does not fit.                                                                                                                             2\n",
       "The food was terrible.                                                                                                                    2\n",
       "I won't be back.                                                                                                                          2\n",
       "                                                                                                                                         ..\n",
       "but it is great, i would really recommend it                                                                                              1\n",
       "Makes it easier to keep up with my bluetooth when I'm not wearing it.                                                                     1\n",
       "As I said above....PRETTY USELESS!                                                                                                        1\n",
       "Never got it!!!!!                                                                                                                         1\n",
       "Then, as if I hadn't wasted enough of my life there, they poured salt in the wound by drawing out the time it took to bring the check.    1\n",
       "Name: count, Length: 2731, dtype: int64"
      ]
     },
     "metadata": {},
     "output_type": "display_data"
    },
    {
     "name": "stdout",
     "output_type": "stream",
     "text": [
      "----------------------------------------sentiments---------------------------------------- - "
     ]
    },
    {
     "data": {
      "text/plain": [
       "sentiments\n",
       "1    1386\n",
       "0    1362\n",
       "Name: count, dtype: int64"
      ]
     },
     "metadata": {},
     "output_type": "display_data"
    },
    {
     "name": "stdout",
     "output_type": "stream",
     "text": [
      "----------------------------------------word_count---------------------------------------- - "
     ]
    },
    {
     "data": {
      "text/plain": [
       "word_count\n",
       "4       203\n",
       "5       180\n",
       "7       173\n",
       "6       159\n",
       "8       156\n",
       "10      152\n",
       "3       150\n",
       "11      144\n",
       "12      139\n",
       "9       133\n",
       "2       106\n",
       "14      101\n",
       "13       99\n",
       "15       97\n",
       "16       86\n",
       "17       83\n",
       "20       71\n",
       "19       70\n",
       "21       69\n",
       "18       65\n",
       "23       45\n",
       "22       40\n",
       "24       38\n",
       "25       37\n",
       "26       22\n",
       "28       16\n",
       "27       14\n",
       "1        12\n",
       "30       10\n",
       "31       10\n",
       "34       10\n",
       "29        9\n",
       "33        8\n",
       "32        7\n",
       "35        4\n",
       "38        4\n",
       "45        3\n",
       "36        3\n",
       "40        2\n",
       "43        2\n",
       "47        2\n",
       "54        1\n",
       "42        1\n",
       "302       1\n",
       "62        1\n",
       "56        1\n",
       "1390      1\n",
       "199       1\n",
       "71        1\n",
       "39        1\n",
       "37        1\n",
       "53        1\n",
       "51        1\n",
       "865       1\n",
       "797       1\n",
       "Name: count, dtype: int64"
      ]
     },
     "metadata": {},
     "output_type": "display_data"
    },
    {
     "name": "stdout",
     "output_type": "stream",
     "text": [
      "----------------------------------------tokens_count---------------------------------------- - "
     ]
    },
    {
     "data": {
      "text/plain": [
       "tokens_count\n",
       "5       186\n",
       "6       179\n",
       "8       159\n",
       "7       156\n",
       "9       147\n",
       "13      145\n",
       "12      141\n",
       "11      140\n",
       "4       126\n",
       "10      124\n",
       "14      100\n",
       "15       95\n",
       "3        95\n",
       "17       94\n",
       "16       94\n",
       "18       81\n",
       "19       77\n",
       "21       75\n",
       "22       71\n",
       "20       62\n",
       "24       52\n",
       "23       50\n",
       "26       43\n",
       "25       38\n",
       "27       30\n",
       "28       25\n",
       "29       20\n",
       "30       19\n",
       "31       17\n",
       "32       16\n",
       "33       13\n",
       "34        7\n",
       "39        7\n",
       "36        6\n",
       "2         6\n",
       "42        6\n",
       "41        5\n",
       "35        5\n",
       "37        4\n",
       "40        4\n",
       "38        3\n",
       "1         2\n",
       "43        2\n",
       "50        2\n",
       "47        2\n",
       "45        2\n",
       "52        2\n",
       "69        1\n",
       "348       1\n",
       "73        1\n",
       "229       1\n",
       "62        1\n",
       "49        1\n",
       "46        1\n",
       "1005      1\n",
       "80        1\n",
       "55        1\n",
       "56        1\n",
       "1625      1\n",
       "923       1\n",
       "Name: count, dtype: int64"
      ]
     },
     "metadata": {},
     "output_type": "display_data"
    },
    {
     "name": "stdout",
     "output_type": "stream",
     "text": [
      "----------------------------------------clean_review---------------------------------------- - "
     ]
    },
    {
     "data": {
      "text/plain": [
       "clean_review\n",
       "great phone                                                           8\n",
       "disappointed                                                          6\n",
       "waste money                                                           5\n",
       "back                                                                  5\n",
       "works great                                                           4\n",
       "                                                                     ..\n",
       "easy turn car volume controls quite accessable                        1\n",
       "mine year christmas bought rest family                                1\n",
       "otherwise easy install use clear sound                                1\n",
       "nice leather                                                          1\n",
       "wasted enough life poured salt wound drawing time took bring check    1\n",
       "Name: count, Length: 2675, dtype: int64"
      ]
     },
     "metadata": {},
     "output_type": "display_data"
    }
   ],
   "source": [
    "# lets save a copy of the prepared data set: created_df_prepared_nlp.csv\n",
    "for col in combine_df.columns:\n",
    "    print('-' * 40 + col + '-' * 40 , end=' - ')\n",
    "    display(combine_df[col].value_counts())\n",
    "\n",
    "combine_df.to_csv(\"combine_df_prepared_nlp.csv\", index=False)\n",
    "#combine_df.to_csv('nlp_combine_df.csv', index = False)"
   ]
  },
  {
   "cell_type": "code",
   "execution_count": 54,
   "id": "32db5d38-108f-474d-a534-5d638fc93f6c",
   "metadata": {},
   "outputs": [
    {
     "name": "stdout",
     "output_type": "stream",
     "text": [
      "WARNING:tensorflow:From C:\\Users\\narcissel\\AppData\\Local\\anaconda3\\Lib\\site-packages\\keras\\src\\backend.py:873: The name tf.get_default_graph is deprecated. Please use tf.compat.v1.get_default_graph instead.\n",
      "\n"
     ]
    }
   ],
   "source": [
    "# lets create model with tensofFlow\n",
    "model = tf.keras.Sequential([\n",
    "    tf.keras.layers.Embedding(vocab_size, embedding_dim, input_length=max_length), \n",
    "    tf.keras.layers.GlobalAveragePooling1D(), \n",
    "    tf.keras.layers.Dense(10, activation='relu'), \n",
    "    tf.keras.layers.Dense(6, activation='relu'), \n",
    "    tf.keras.layers.Dense(1, activation='sigmoid')  \n",
    "])"
   ]
  },
  {
   "cell_type": "code",
   "execution_count": 55,
   "id": "3aa3e50e-60fc-49c1-903c-ca12a9d44d59",
   "metadata": {},
   "outputs": [
    {
     "name": "stdout",
     "output_type": "stream",
     "text": [
      "WARNING:tensorflow:From C:\\Users\\narcissel\\AppData\\Local\\anaconda3\\Lib\\site-packages\\keras\\src\\optimizers\\__init__.py:309: The name tf.train.Optimizer is deprecated. Please use tf.compat.v1.train.Optimizer instead.\n",
      "\n",
      "Model: \"sequential\"\n",
      "_________________________________________________________________\n",
      " Layer (type)                Output Shape              Param #   \n",
      "=================================================================\n",
      " embedding (Embedding)       (None, 100, 16)           35200     \n",
      "                                                                 \n",
      " global_average_pooling1d (  (None, 16)                0         \n",
      " GlobalAveragePooling1D)                                         \n",
      "                                                                 \n",
      " dense (Dense)               (None, 10)                170       \n",
      "                                                                 \n",
      " dense_1 (Dense)             (None, 6)                 66        \n",
      "                                                                 \n",
      " dense_2 (Dense)             (None, 1)                 7         \n",
      "                                                                 \n",
      "=================================================================\n",
      "Total params: 35443 (138.45 KB)\n",
      "Trainable params: 35443 (138.45 KB)\n",
      "Non-trainable params: 0 (0.00 Byte)\n",
      "_________________________________________________________________\n",
      "None\n"
     ]
    }
   ],
   "source": [
    "# lets compile model, set loss function\n",
    "model.compile(loss = 'binary_crossentropy', optimizer = 'adam', metrics = ['accuracy'])\n",
    "print(model.summary())"
   ]
  },
  {
   "cell_type": "code",
   "execution_count": 56,
   "id": "e55928bc-d280-432c-a7a6-7f745c744836",
   "metadata": {},
   "outputs": [],
   "source": [
    "# Training the model- comfirm stopping creiteria with np arrays\n",
    "train_labels_final = np.array(train_labels)\n",
    "test_labels_final = np.array(test_labels)"
   ]
  },
  {
   "cell_type": "code",
   "execution_count": 57,
   "id": "9bb3ce54-75c9-461a-8bce-54d26cd02fa1",
   "metadata": {},
   "outputs": [
    {
     "name": "stdout",
     "output_type": "stream",
     "text": [
      "Epoch 1/15\n",
      "WARNING:tensorflow:From C:\\Users\\narcissel\\AppData\\Local\\anaconda3\\Lib\\site-packages\\keras\\src\\utils\\tf_utils.py:492: The name tf.ragged.RaggedTensorValue is deprecated. Please use tf.compat.v1.ragged.RaggedTensorValue instead.\n",
      "\n",
      "WARNING:tensorflow:From C:\\Users\\narcissel\\AppData\\Local\\anaconda3\\Lib\\site-packages\\keras\\src\\engine\\base_layer_utils.py:384: The name tf.executing_eagerly_outside_functions is deprecated. Please use tf.compat.v1.executing_eagerly_outside_functions instead.\n",
      "\n",
      "69/69 [==============================] - 2s 7ms/step - loss: 0.6928 - accuracy: 0.5173 - val_loss: 0.6949 - val_accuracy: 0.4545\n",
      "Epoch 2/15\n",
      "69/69 [==============================] - 0s 4ms/step - loss: 0.6919 - accuracy: 0.5168 - val_loss: 0.6986 - val_accuracy: 0.4545\n",
      "Epoch 3/15\n",
      "69/69 [==============================] - 0s 4ms/step - loss: 0.6918 - accuracy: 0.5168 - val_loss: 0.6953 - val_accuracy: 0.4545\n",
      "Epoch 4/15\n",
      "69/69 [==============================] - 0s 4ms/step - loss: 0.6897 - accuracy: 0.5168 - val_loss: 0.6949 - val_accuracy: 0.4545\n",
      "Epoch 5/15\n",
      "69/69 [==============================] - 0s 4ms/step - loss: 0.6862 - accuracy: 0.5214 - val_loss: 0.6885 - val_accuracy: 0.5709\n",
      "Epoch 6/15\n",
      "69/69 [==============================] - 0s 4ms/step - loss: 0.6750 - accuracy: 0.5742 - val_loss: 0.6803 - val_accuracy: 0.5182\n",
      "Epoch 7/15\n",
      "69/69 [==============================] - 0s 4ms/step - loss: 0.6444 - accuracy: 0.7138 - val_loss: 0.6554 - val_accuracy: 0.6291\n",
      "Epoch 8/15\n",
      "69/69 [==============================] - 0s 4ms/step - loss: 0.5735 - accuracy: 0.8112 - val_loss: 0.6034 - val_accuracy: 0.7364\n",
      "Epoch 9/15\n",
      "69/69 [==============================] - 0s 4ms/step - loss: 0.4762 - accuracy: 0.8822 - val_loss: 0.5498 - val_accuracy: 0.7545\n",
      "Epoch 10/15\n",
      "69/69 [==============================] - 0s 4ms/step - loss: 0.3906 - accuracy: 0.8944 - val_loss: 0.5583 - val_accuracy: 0.6982\n",
      "Epoch 11/15\n",
      "69/69 [==============================] - 0s 4ms/step - loss: 0.3175 - accuracy: 0.9154 - val_loss: 0.4898 - val_accuracy: 0.7636\n",
      "Epoch 12/15\n",
      "69/69 [==============================] - 0s 4ms/step - loss: 0.2673 - accuracy: 0.9231 - val_loss: 0.5181 - val_accuracy: 0.7455\n",
      "Epoch 13/15\n",
      "69/69 [==============================] - 0s 5ms/step - loss: 0.2389 - accuracy: 0.9167 - val_loss: 0.4698 - val_accuracy: 0.7818\n",
      "Epoch 14/15\n",
      "69/69 [==============================] - 0s 5ms/step - loss: 0.2120 - accuracy: 0.9299 - val_loss: 0.5565 - val_accuracy: 0.7236\n",
      "Epoch 15/15\n",
      "69/69 [==============================] - 0s 4ms/step - loss: 0.1926 - accuracy: 0.9368 - val_loss: 0.4837 - val_accuracy: 0.7764\n"
     ]
    }
   ],
   "source": [
    "# lets fit the model for 15 epochs\n",
    "epochs_num = 15\n",
    "\n",
    "history_model1 = model.fit(padded, train_labels_final, epochs= epochs_num, \n",
    "                   validation_data=(test_padded, test_labels_final))"
   ]
  },
  {
   "cell_type": "code",
   "execution_count": 58,
   "id": "22fe2bbc-a0df-4ea4-a441-c18bbea5842e",
   "metadata": {},
   "outputs": [
    {
     "name": "stdout",
     "output_type": "stream",
     "text": [
      "Epoch 1/15\n",
      "69/69 [==============================] - 0s 7ms/step - loss: 0.1720 - accuracy: 0.9472 - val_loss: 0.5004 - val_accuracy: 0.7655\n",
      "Epoch 2/15\n",
      "69/69 [==============================] - 0s 5ms/step - loss: 0.1571 - accuracy: 0.9468 - val_loss: 0.5239 - val_accuracy: 0.7600\n"
     ]
    }
   ],
   "source": [
    "# lets fit the model for 15 epochs\n",
    "epochs_num = 15\n",
    "\n",
    "history_model2 = model.fit(padded, train_labels_final, epochs= epochs_num, \n",
    "                   validation_data=(test_padded, test_labels_final),\n",
    "                         callbacks = EarlyStopping(monitor = 'val_loss'))"
   ]
  },
  {
   "cell_type": "code",
   "execution_count": 59,
   "id": "8c3dbc2b-5fad-4136-a22d-db6845171526",
   "metadata": {},
   "outputs": [
    {
     "data": {
      "image/png": "[encoded data removed]",
      "text/plain": [
       "<Figure size 640x480 with 1 Axes>"
      ]
     },
     "metadata": {},
     "output_type": "display_data"
    }
   ],
   "source": [
    "# lets plot loss (mean absolute error) and epoch\n",
    "plt.plot(history_model1.history['loss'], label='Loss training')\n",
    "plt.title('Loss value vs Number of epoch')\n",
    "plt.ylabel('Loss value')\n",
    "plt.xlabel('Number of epoch')\n",
    "plt.legend(loc=\"upper left\")\n",
    "plt.show()"
   ]
  },
  {
   "cell_type": "code",
   "execution_count": 60,
   "id": "2c31c47f-0efe-4b2a-9ec6-1c488f257e6e",
   "metadata": {},
   "outputs": [
    {
     "data": {
      "image/png": "[encoded data removed]",
      "text/plain": [
       "<Figure size 640x480 with 1 Axes>"
      ]
     },
     "metadata": {},
     "output_type": "display_data"
    }
   ],
   "source": [
    "# lets plot accuracy and epoch\n",
    "plt.plot(history_model1.history['accuracy'], label='Accuracy')\n",
    "plt.title('Accuracy value vs Number of epoch')\n",
    "plt.ylabel('Accuracy value')\n",
    "plt.xlabel('Number of epoch')\n",
    "plt.legend(loc=\"upper left\")\n",
    "plt.show()"
   ]
  },
  {
   "cell_type": "code",
   "execution_count": 61,
   "id": "5c00ad0a-f90f-4940-a6b5-dcb1e53587d8",
   "metadata": {},
   "outputs": [
    {
     "data": {
      "text/plain": [
       "<Figure size 640x480 with 0 Axes>"
      ]
     },
     "execution_count": 61,
     "metadata": {},
     "output_type": "execute_result"
    },
    {
     "data": {
      "image/png": "[encoded data removed]",
      "text/plain": [
       "<Figure size 640x480 with 1 Axes>"
      ]
     },
     "metadata": {},
     "output_type": "display_data"
    },
    {
     "data": {
      "image/png": "[encoded data removed]",
      "text/plain": [
       "<Figure size 640x480 with 1 Axes>"
      ]
     },
     "metadata": {},
     "output_type": "display_data"
    },
    {
     "data": {
      "text/plain": [
       "<Figure size 640x480 with 0 Axes>"
      ]
     },
     "metadata": {},
     "output_type": "display_data"
    }
   ],
   "source": [
    "# lets visualize the model alongside loss function\n",
    "%matplotlib inline\n",
    "import matplotlib.pyplot as plt\n",
    "import matplotlib.image as mpimg\n",
    "plt.style.use('ggplot')\n",
    "\n",
    "acc = history_model1.history['accuracy']\n",
    "val_acc = history_model1.history['val_accuracy']\n",
    "loss = history_model1.history['loss']\n",
    "val_loss = history_model1.history['val_loss']\n",
    "epochs=range(len(acc))\n",
    "plt.plot(epochs, acc, 'r', 'Accuracy Training')\n",
    "plt.plot(epochs, val_acc, 'b', 'Accuracy Validation')\n",
    "plt.title('Accuracy Training and Validation')\n",
    "plt.figure()\n",
    "plt.plot(epochs, loss, 'r', 'Loss Training')\n",
    "plt.plot(epochs, val_loss, 'b', 'Loss Validation')\n",
    "plt.title('Loss Training and Validation')\n",
    "plt.figure()"
   ]
  },
  {
   "cell_type": "code",
   "execution_count": 62,
   "id": "1bd2b860-8077-4924-90ea-f8ccc8719cea",
   "metadata": {
    "tags": []
   },
   "outputs": [
    {
     "name": "stdout",
     "output_type": "stream",
     "text": [
      "Accuracy: 95.450407\n"
     ]
    }
   ],
   "source": [
    "# lets analyze the model\n",
    "loss, accuracy = model.evaluate(padded, train_labels_final, verbose = 0)\n",
    "print('Accuracy: %f' % (accuracy * 100))"
   ]
  }
 ],
 "metadata": {
  "kernelspec": {
   "display_name": "Python 3 (ipykernel)",
   "language": "python",
   "name": "python3"
  },
  "language_info": {
   "codemirror_mode": {
    "name": "ipython",
    "version": 3
   },
   "file_extension": ".py",
   "mimetype": "text/x-python",
   "name": "python",
   "nbconvert_exporter": "python",
   "pygments_lexer": "ipython3",
   "version": "3.11.5"
  }
 },
 "nbformat": 4,
 "nbformat_minor": 5
}
